{
 "cells": [
  {
   "cell_type": "code",
   "execution_count": 15,
   "metadata": {},
   "outputs": [],
   "source": [
    "# 从log文件中直接读取estimate quantile的结果\n",
    "import json\n",
    "import numpy as np\n",
    "hops_latency = {}\n",
    "for i in range(1,6):\n",
    "    f = open(\"./quantile-calc-per-hop/sketchpolymer/{}-hop.json\".format(i))\n",
    "    lines = f.readlines()\n",
    "    whole_lats = []\n",
    "    for line in lines:\n",
    "        # print(line)\n",
    "        line = eval(line)\n",
    "        flow = tuple([line[\"src_ip\"],line['dst_ip'],line['sport'],line['dport']])\n",
    "        lat = line[\"whole_latency\"]\n",
    "        whole_lats.append(lat)\n",
    "\n",
    "    lat_mean = np.mean(whole_lats)\n",
    "    lat_std = np.std(whole_lats)\n",
    "    hops_latency[i] = [lat_mean, lat_std]"
   ]
  },
  {
   "cell_type": "code",
   "execution_count": 12,
   "metadata": {},
   "outputs": [
    {
     "data": {
      "text/plain": [
       "{1: [424.965, 24.676853695990772],\n",
       " 2: [2158.42, 327.9057897221904],\n",
       " 3: [3832.18, 624.5337575076841],\n",
       " 4: [5468.821666666667, 885.4144320771802],\n",
       " 5: [7181.761666666666, 1197.7693176055323]}"
      ]
     },
     "execution_count": 12,
     "metadata": {},
     "output_type": "execute_result"
    }
   ],
   "source": [
    "hops_latency"
   ]
  },
  {
   "cell_type": "code",
   "execution_count": 19,
   "metadata": {},
   "outputs": [],
   "source": [
    "# 从log文件中直接读取estimate quantile的结果\n",
    "import json\n",
    "import numpy as np\n",
    "hops_latency = {}\n",
    "for name in [\"mfq\",\"sketchpolymer\"]:\n",
    "    f = open(\"./quantile-calc-only-last-hop/{}.json\".format(name))\n",
    "    lines = f.readlines()\n",
    "    whole_lats = []\n",
    "    for line in lines:\n",
    "        # print(line)\n",
    "        line = eval(line)\n",
    "        flow = tuple([line[\"src_ip\"],line['dst_ip'],line['sport'],line['dport']])\n",
    "        lat = line[\"whole_latency\"]\n",
    "        whole_lats.append(lat)\n",
    "\n",
    "    lat_mean = np.mean(whole_lats)\n",
    "    lat_std = np.std(whole_lats)\n",
    "    hops_latency[name] = [lat_mean, lat_std]"
   ]
  },
  {
   "cell_type": "code",
   "execution_count": 20,
   "metadata": {},
   "outputs": [
    {
     "data": {
      "text/plain": [
       "{'mfq': [2975.2483333333334, 128.1307014883197],\n",
       " 'sketchpolymer': [2990.82, 332.913068132408]}"
      ]
     },
     "execution_count": 20,
     "metadata": {},
     "output_type": "execute_result"
    }
   ],
   "source": [
    "hops_latency"
   ]
  }
 ],
 "metadata": {
  "kernelspec": {
   "display_name": "Python 3",
   "language": "python",
   "name": "python3"
  },
  "language_info": {
   "codemirror_mode": {
    "name": "ipython",
    "version": 3
   },
   "file_extension": ".py",
   "mimetype": "text/x-python",
   "name": "python",
   "nbconvert_exporter": "python",
   "pygments_lexer": "ipython3",
   "version": "3.6.9"
  }
 },
 "nbformat": 4,
 "nbformat_minor": 2
}
