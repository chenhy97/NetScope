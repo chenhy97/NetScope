{
 "cells": [
  {
   "cell_type": "code",
   "execution_count": 2,
   "metadata": {},
   "outputs": [
    {
     "name": "stdout",
     "output_type": "stream",
     "text": [
      "Collecting pyspark\n",
      "  Downloading https://pypi.tuna.tsinghua.edu.cn/packages/11/96/85b392e2564b69256b1d5360dd7d9e5428ea381623df590cfb45f3ea5432/pyspark-3.2.4.tar.gz (281.5MB)\n",
      "\u001b[K    100% |████████████████████████████████| 281.5MB 4.5kB/s ta 0:00:011  9% |███                             | 27.2MB 32.2MB/s eta 0:00:08    10% |███▍                            | 29.4MB 1.5MB/s eta 0:02:48    33% |██████████▊                     | 94.3MB 29.8MB/s eta 0:00:07    41% |█████████████▍                  | 117.5MB 2.7MB/s eta 0:01:01    67% |█████████████████████▊          | 191.0MB 28.7MB/s eta 0:00:04    87% |███████████████████████████▉    | 245.1MB 1.7MB/s eta 0:00:21\n",
      "\u001b[?25hCollecting py4j==0.10.9.5 (from pyspark)\n",
      "  Downloading https://pypi.tuna.tsinghua.edu.cn/packages/86/ec/60880978512d5569ca4bf32b3b4d7776a528ecf4bca4523936c98c92a3c8/py4j-0.10.9.5-py2.py3-none-any.whl (199kB)\n",
      "\u001b[K    100% |████████████████████████████████| 204kB 5.8MB/s eta 0:00:01\n",
      "\u001b[?25hBuilding wheels for collected packages: pyspark\n",
      "  Running setup.py bdist_wheel for pyspark ... \u001b[?25ldone\n",
      "\u001b[?25h  Stored in directory: /root/.cache/pip/wheels/d9/7f/28/e6a324984bce7a1b2db5c4c8857702a4751d488b0ece1033b2\n",
      "Successfully built pyspark\n",
      "Installing collected packages: py4j, pyspark\n",
      "Successfully installed py4j-0.10.9.5 pyspark-3.2.4\n"
     ]
    }
   ],
   "source": [
    "!pip install pyspark\n",
    "import pyspark as spark\n"
   ]
  },
  {
   "cell_type": "code",
   "execution_count": 17,
   "metadata": {},
   "outputs": [
    {
     "name": "stdout",
     "output_type": "stream",
     "text": [
      "+-----+\n",
      "|value|\n",
      "+-----+\n",
      "| 1896|\n",
      "| 1026|\n",
      "| 1367|\n",
      "| 1389|\n",
      "| 1365|\n",
      "| 1752|\n",
      "| 1651|\n",
      "| 1380|\n",
      "| 1132|\n",
      "| 1437|\n",
      "|  121|\n",
      "+-----+\n",
      "\n"
     ]
    }
   ],
   "source": [
    "# 导入必要的库\n",
    "from pyspark.sql import SparkSession\n",
    "\n",
    "# 创建 SparkSession\n",
    "spark = SparkSession.builder.appName(\"Quantile Calculation\").getOrCreate()\n",
    "df = spark.createDataFrame([\n",
    "   [1896], [1026],[1367],[1389],[1365], [1752],[1651],[1380],[1132],[1437],[121]\n",
    "], schema=['value'])\n",
    "df.show()"
   ]
  },
  {
   "cell_type": "code",
   "execution_count": 18,
   "metadata": {},
   "outputs": [
    {
     "data": {
      "text/plain": [
       "[1026.0, 1380.0, 1752.0]"
      ]
     },
     "execution_count": 18,
     "metadata": {},
     "output_type": "execute_result"
    }
   ],
   "source": [
    "df.approxQuantile(col='value',probabilities=[0.1,0.5,0.9],relativeError=0)\n"
   ]
  },
  {
   "cell_type": "code",
   "execution_count": 1,
   "metadata": {},
   "outputs": [],
   "source": [
    "from ddsketch import DDSketch"
   ]
  },
  {
   "cell_type": "code",
   "execution_count": 8,
   "metadata": {},
   "outputs": [],
   "source": [
    "sketch = DDSketch()"
   ]
  },
  {
   "cell_type": "code",
   "execution_count": 9,
   "metadata": {},
   "outputs": [],
   "source": [
    "import numpy as np\n",
    "random_sequence = np.array([1896,   1026,   1367,   1389,  1365,  1752,   1651,   1380,   1132,   1437])\n",
    "append_random_sequence = np.append(random_sequence,np.random.randint(100,200, size = 200))"
   ]
  },
  {
   "cell_type": "code",
   "execution_count": 10,
   "metadata": {},
   "outputs": [],
   "source": [
    "for v in append_random_sequence:\n",
    "    sketch.add(v)"
   ]
  },
  {
   "cell_type": "code",
   "execution_count": 11,
   "metadata": {},
   "outputs": [],
   "source": [
    "quantiles = [sketch.get_quantile_value(q) for q in [0.5, 0.75, 0.9, 1]]"
   ]
  },
  {
   "cell_type": "code",
   "execution_count": 12,
   "metadata": {},
   "outputs": [
    {
     "data": {
      "text/plain": [
       "[152.95101002859045,\n",
       " 175.93636042833492,\n",
       " 194.44039714993866,\n",
       " 1901.1261103999975]"
      ]
     },
     "execution_count": 12,
     "metadata": {},
     "output_type": "execute_result"
    }
   ],
   "source": [
    "quantiles"
   ]
  },
  {
   "cell_type": "code",
   "execution_count": 16,
   "metadata": {},
   "outputs": [
    {
     "name": "stdout",
     "output_type": "stream",
     "text": [
      "[1896 1026 1367 1389 1365 1752 1651 1380 1132 1437  138  102  191  165\n",
      "  150  103  107  173  190  128  138  159  139  181  159  137  169  137\n",
      "  162  183  160  144  153  119  151  158  105  105  160  144  131  194\n",
      "  154  177  185  100  156  175  194  194  182  112  187  149  163  185\n",
      "  130  131  163  142  132  127  185  121  112  158  157  125  130  111\n",
      "  124  129  194  122  133  119  105  175  187  183  152  109  150  152\n",
      "  152  121  173  108  128  130  140  175  145  186  161  146  162  160\n",
      "  156  180  168  187  181  169  101  100  142  163  179  161  102  137\n",
      "  148  188  167  183  109  129  141  162  168  176  199  104  173  149\n",
      "  162  198  196  159  170  162  137  120  149  149  182  114  171  126\n",
      "  194  133  116  141  175  142  160  157  197  126  180  192  180  184\n",
      "  193  180  191  142  115  125  189  176  108  137  124  126  132  147\n",
      "  144  168  137  196  140  160  133  161  153  148  129  166  130  162\n",
      "  158  180  183  177  117  109  119  167  184  196  173  107  146  135\n",
      "  118  145  196  106  108  107  176  143  117  140  135  109  119  196]\n",
      "[100, 100, 101, 102, 102, 103, 104, 105, 105, 105, 106, 107, 107, 107, 108, 108, 108, 109, 109, 109, 109, 111, 112, 112, 114, 115, 116, 117, 117, 118, 119, 119, 119, 119, 120, 121, 121, 122, 124, 124, 125, 125, 126, 126, 126, 127, 128, 128, 129, 129, 129, 130, 130, 130, 130, 131, 131, 132, 132, 133, 133, 133, 135, 135, 137, 137, 137, 137, 137, 137, 138, 138, 139, 140, 140, 140, 141, 141, 142, 142, 142, 142, 143, 144, 144, 144, 145, 145, 146, 146, 147, 148, 148, 149, 149, 149, 149, 150, 150, 151, 152, 152, 152, 153, 153, 154, 156, 156, 157, 157, 158, 158, 158, 159, 159, 159, 160, 160, 160, 160, 160, 161, 161, 161, 162, 162, 162, 162, 162, 162, 163, 163, 163, 165, 166, 167, 167, 168, 168, 168, 169, 169, 170, 171, 173, 173, 173, 173, 175, 175, 175, 175, 176, 176, 176, 177, 177, 179, 180, 180, 180, 180, 180, 181, 181, 182, 182, 183, 183, 183, 183, 184, 184, 185, 185, 185, 186, 187, 187, 187, 188, 189, 190, 191, 191, 192, 193, 194, 194, 194, 194, 194, 196, 196, 196, 196, 196, 197, 198, 199, 1026, 1132, 1365, 1367, 1380, 1389, 1437, 1651, 1752, 1896]\n",
      "totel len: 210, p90 len: 189\n",
      "194\n"
     ]
    }
   ],
   "source": [
    "print(append_random_sequence)\n",
    "sorted_random_sequence = sorted(append_random_sequence)\n",
    "print(sorted_random_sequence)\n",
    "print(\"totel len: {}, p90 len: {}\".format(len(sorted_random_sequence),int(0.9 * len(sorted_random_sequence))))\n",
    "p90_value = sorted_random_sequence[int(0.9 * len(sorted_random_sequence))]\n",
    "print(p90_value)"
   ]
  }
 ],
 "metadata": {
  "kernelspec": {
   "display_name": "Python 3",
   "language": "python",
   "name": "python3"
  },
  "language_info": {
   "codemirror_mode": {
    "name": "ipython",
    "version": 3
   },
   "file_extension": ".py",
   "mimetype": "text/x-python",
   "name": "python",
   "nbconvert_exporter": "python",
   "pygments_lexer": "ipython3",
   "version": "3.6.9"
  }
 },
 "nbformat": 4,
 "nbformat_minor": 2
}
