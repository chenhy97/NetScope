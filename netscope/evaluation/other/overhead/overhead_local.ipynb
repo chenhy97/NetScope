{
 "cells": [
  {
   "cell_type": "code",
   "execution_count": 1,
   "metadata": {},
   "outputs": [],
   "source": [
    "# NetScope\n",
    "HDS_NetScope_naive = 4 # path id\n",
    "HDS_NetScope_telemetry = 48 + 20 + HDS_NetScope_naive\n",
    "HDS_NetScope_report = 16 + 32 + 16 + 12*3 + HDS_NetScope_telemetry\n",
    "HDS_NetScope_latency = 32\n",
    "\n",
    "# IntSight\n",
    "HDS_IntSight_telemetry = 33*8\n",
    "HDS_IntSight_report = 54*8\n",
    "\n",
    "# SpiderMon\n",
    "HDS_SpiderMon_naive = 32\n",
    "HDS_SpiderMon_telemetry = 36*8\n",
    "HDS_SpiderMon_telemetry_shim = 8 + 16 + 8\n",
    "HDS_SpiderMon_pkt = 16 + 20 # queue info\n",
    "\n",
    "# SyNDB\n",
    "HDS_SyNDB_pRecord = 16 + 16 + 16 + 32 + 24\n",
    "# HDS_SyNDB_trigger = 0"
   ]
  },
  {
   "cell_type": "code",
   "execution_count": 7,
   "metadata": {},
   "outputs": [],
   "source": [
    "digests_len = 422\n",
    "latencys_len = 3512"
   ]
  },
  {
   "cell_type": "code",
   "execution_count": 11,
   "metadata": {},
   "outputs": [
    {
     "name": "stdout",
     "output_type": "stream",
     "text": [
      "72584\n",
      "11238.4\n"
     ]
    }
   ],
   "source": [
    "print(digests_len * HDS_NetScope_report)\n",
    "print(latencys_len * HDS_NetScope_latency/10)"
   ]
  },
  {
   "cell_type": "code",
   "execution_count": 12,
   "metadata": {},
   "outputs": [
    {
     "data": {
      "text/plain": [
       "83822.4"
      ]
     },
     "execution_count": 12,
     "metadata": {},
     "output_type": "execute_result"
    }
   ],
   "source": [
    "digests_len * HDS_NetScope_report + latencys_len * HDS_NetScope_latency/10"
   ]
  },
  {
   "cell_type": "code",
   "execution_count": null,
   "metadata": {},
   "outputs": [],
   "source": []
  }
 ],
 "metadata": {
  "kernelspec": {
   "display_name": "base",
   "language": "python",
   "name": "python3"
  },
  "language_info": {
   "codemirror_mode": {
    "name": "ipython",
    "version": 3
   },
   "file_extension": ".py",
   "mimetype": "text/x-python",
   "name": "python",
   "nbconvert_exporter": "python",
   "pygments_lexer": "ipython3",
   "version": "3.9.12"
  },
  "orig_nbformat": 4
 },
 "nbformat": 4,
 "nbformat_minor": 2
}
