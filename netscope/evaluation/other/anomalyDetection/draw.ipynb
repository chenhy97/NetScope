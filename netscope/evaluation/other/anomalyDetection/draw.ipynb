{
 "cells": [
  {
   "cell_type": "code",
   "execution_count": 1,
   "metadata": {},
   "outputs": [],
   "source": [
    "import os\n",
    "from matplotlib import pyplot as plt\n",
    "import matplotlib as mpl\n",
    "import numpy as np\n",
    "import pandas as pd\n",
    "import math\n",
    "\n",
    "if not os.path.abspath('.').endswith('netscope'):\n",
    "    current_dir = os.path.abspath('.')\n",
    "    root_path = os.path.dirname(os.path.dirname(os.path.dirname(os.path.abspath('.'))))\n",
    "    os.chdir(root_path)\n",
    "    from analysis.load import Loader\n",
    "    from evaluation.intsight.IntSight import IntSight\n",
    "\n",
    "markers = list('ov^<>12348sp*hH+xXDd|_.,')+[i for i in range(12)]\n",
    "\n",
    "mpl.rcParams.update({\n",
    "    'axes.spines.right': False,\n",
    "    'axes.spines.top': False,\n",
    "})\n",
    "plt.rc('figure', figsize=[6,3.5])\n",
    "plt.rc('font', family='Times New Roman', size=18)"
   ]
  },
  {
   "cell_type": "code",
   "execution_count": 3,
   "metadata": {},
   "outputs": [
    {
     "data": {
      "text/html": [
       "<div>\n",
       "<style scoped>\n",
       "    .dataframe tbody tr th:only-of-type {\n",
       "        vertical-align: middle;\n",
       "    }\n",
       "\n",
       "    .dataframe tbody tr th {\n",
       "        vertical-align: top;\n",
       "    }\n",
       "\n",
       "    .dataframe thead th {\n",
       "        text-align: right;\n",
       "    }\n",
       "</style>\n",
       "<table border=\"1\" class=\"dataframe\">\n",
       "  <thead>\n",
       "    <tr style=\"text-align: right;\">\n",
       "      <th></th>\n",
       "      <th>size</th>\n",
       "      <th>label</th>\n",
       "      <th>TN</th>\n",
       "      <th>TP</th>\n",
       "      <th>FN</th>\n",
       "      <th>FP</th>\n",
       "      <th>Recall</th>\n",
       "      <th>Precision</th>\n",
       "    </tr>\n",
       "  </thead>\n",
       "  <tbody>\n",
       "    <tr>\n",
       "      <th>0</th>\n",
       "      <td>120</td>\n",
       "      <td>100 ms</td>\n",
       "      <td>107</td>\n",
       "      <td>116</td>\n",
       "      <td>14</td>\n",
       "      <td>5</td>\n",
       "      <td>0.892308</td>\n",
       "      <td>0.958678</td>\n",
       "    </tr>\n",
       "    <tr>\n",
       "      <th>1</th>\n",
       "      <td>120</td>\n",
       "      <td>500 ms</td>\n",
       "      <td>116</td>\n",
       "      <td>106</td>\n",
       "      <td>5</td>\n",
       "      <td>15</td>\n",
       "      <td>0.954955</td>\n",
       "      <td>0.876033</td>\n",
       "    </tr>\n",
       "    <tr>\n",
       "      <th>2</th>\n",
       "      <td>120</td>\n",
       "      <td>1000 ms</td>\n",
       "      <td>117</td>\n",
       "      <td>103</td>\n",
       "      <td>4</td>\n",
       "      <td>18</td>\n",
       "      <td>0.962617</td>\n",
       "      <td>0.851240</td>\n",
       "    </tr>\n",
       "    <tr>\n",
       "      <th>3</th>\n",
       "      <td>120</td>\n",
       "      <td>5000 ms</td>\n",
       "      <td>121</td>\n",
       "      <td>32</td>\n",
       "      <td>0</td>\n",
       "      <td>89</td>\n",
       "      <td>1.000000</td>\n",
       "      <td>0.264463</td>\n",
       "    </tr>\n",
       "    <tr>\n",
       "      <th>4</th>\n",
       "      <td>200</td>\n",
       "      <td>Reservoir</td>\n",
       "      <td>120</td>\n",
       "      <td>103</td>\n",
       "      <td>1</td>\n",
       "      <td>4</td>\n",
       "      <td>0.990385</td>\n",
       "      <td>0.962617</td>\n",
       "    </tr>\n",
       "    <tr>\n",
       "      <th>5</th>\n",
       "      <td>250</td>\n",
       "      <td>Reservoir without $punish$</td>\n",
       "      <td>120</td>\n",
       "      <td>71</td>\n",
       "      <td>1</td>\n",
       "      <td>50</td>\n",
       "      <td>0.986111</td>\n",
       "      <td>0.586777</td>\n",
       "    </tr>\n",
       "  </tbody>\n",
       "</table>\n",
       "</div>"
      ],
      "text/plain": [
       "   size                       label   TN   TP  FN  FP    Recall  Precision\n",
       "0   120                      100 ms  107  116  14   5  0.892308   0.958678\n",
       "1   120                      500 ms  116  106   5  15  0.954955   0.876033\n",
       "2   120                     1000 ms  117  103   4  18  0.962617   0.851240\n",
       "3   120                     5000 ms  121   32   0  89  1.000000   0.264463\n",
       "4   200                   Reservoir  120  103   1   4  0.990385   0.962617\n",
       "5   250  Reservoir without $punish$  120   71   1  50  0.986111   0.586777"
      ]
     },
     "execution_count": 3,
     "metadata": {},
     "output_type": "execute_result"
    }
   ],
   "source": [
    "data = pd.DataFrame([\n",
    "    dict(size=120, label=\"100 ms\", TN=107, TP=116, FN=14, FP=5),\n",
    "    dict(size=120, label=\"500 ms\", TN=116, TP=106, FN=5, FP=15),\n",
    "    dict(size=120, label=\"1000 ms\", TN=117, TP=103, FN=4, FP=18),\n",
    "    dict(size=120, label=\"5000 ms\", TN=121, TP=32, FN=0, FP=89),\n",
    "    dict(size=200, label=\"Reservoir\", TN=120, TP=103, FN=1, FP=4),\n",
    "    dict(size=250, label=\"Reservoir without $punish$\", TN=120, TP=71, FN=1, FP=50),\n",
    "])\n",
    "# data\n",
    "data['Recall'] = data.apply(lambda r: r.TP/(r.TP+r.FN), axis=1)\n",
    "data['Precision'] = data.apply(lambda r: r.TP/(r.TP+r.FP), axis=1)\n",
    "data"
   ]
  },
  {
   "cell_type": "code",
   "execution_count": null,
   "metadata": {},
   "outputs": [
    {
     "data": {
      "image/png": "[encoded data removed]",
      "text/plain": [
       "<Figure size 360x360 with 1 Axes>"
      ]
     },
     "metadata": {
      "needs_background": "light"
     },
     "output_type": "display_data"
    }
   ],
   "source": [
    "markers = \"<>^vh*s12348sp*hH+xXDd|_.,\"\n",
    "plt.figure(figsize=(5, 5))\n",
    "for i, row in data.iterrows():\n",
    "    plt.scatter(row.Precision, row.Recall, label=row.label, \n",
    "                 marker=markers[i], s=120, zorder=10)\n",
    "plt.grid()\n",
    "plt.xlabel('Precision (%)')\n",
    "plt.ylabel('Recall (%)')\n",
    "plt.ylim(0, 1.1)\n",
    "plt.xlim(0, 1.1)\n",
    "plt.legend(prop={'size': 16}, frameon=True)\n",
    "plt.savefig(os.path.join(current_dir, 'ad.pdf'), bbox_inches = 'tight')"
   ]
  },
  {
   "cell_type": "code",
   "execution_count": null,
   "metadata": {},
   "outputs": [],
   "source": []
  }
 ],
 "metadata": {
  "kernelspec": {
   "display_name": "Python 3.6.9 64-bit",
   "language": "python",
   "name": "python3"
  },
  "language_info": {
   "codemirror_mode": {
    "name": "ipython",
    "version": 3
   },
   "file_extension": ".py",
   "mimetype": "text/x-python",
   "name": "python",
   "nbconvert_exporter": "python",
   "pygments_lexer": "ipython3",
   "version": "3.6.9"
  },
  "orig_nbformat": 4,
  "vscode": {
   "interpreter": {
    "hash": "767d51c1340bd893661ea55ea3124f6de3c7a262a8b4abca0554b478b1e2ff90"
   }
  }
 },
 "nbformat": 4,
 "nbformat_minor": 2
}
