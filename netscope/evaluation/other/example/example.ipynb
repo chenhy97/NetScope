{
 "cells": [
  {
   "cell_type": "code",
   "execution_count": 1,
   "metadata": {},
   "outputs": [
    {
     "name": "stdout",
     "output_type": "stream",
     "text": [
      "/home/user/dds/netscope\n"
     ]
    }
   ],
   "source": [
    "from matplotlib import pyplot as plt\n",
    "import os\n",
    "import sys\n",
    "import json\n",
    "import pandas as pd\n",
    "import numpy as np\n",
    "from multiprocessing import Pool\n",
    "\n",
    "abspath = os.path.abspath('.')\n",
    "while not abspath.endswith('netscope'):\n",
    "    abspath = os.path.dirname(abspath)\n",
    "if abspath.endswith('netscope'):\n",
    "    root_path = abspath\n",
    "    print(root_path)\n",
    "    os.chdir(root_path)\n",
    "    sys.path.append(root_path)\n",
    "    from analysis.load import Loader\n",
    "    from analysis.ADR import ADR\n",
    "\n",
    "\n",
    "markers = (list('ov^<>12348sp*hH+xXDd|_.,')+[i for i in range(12)]) * 10\n",
    "import matplotlib as mpl\n",
    "mpl.rcParams.update({\n",
    "    'axes.spines.right': False,\n",
    "    'axes.spines.top': False,\n",
    "})\n",
    "plt.rc('figure', figsize=[6,3.5])\n",
    "plt.rc('font', family='Times New Roman', size=18)"
   ]
  },
  {
   "cell_type": "code",
   "execution_count": 4,
   "metadata": {},
   "outputs": [],
   "source": [
    "# log_dir = \"/mnt/netscope/data/slot2/fattree4/burst/20221010_1445GMT\"\n",
    "log_dir = \"/home/user/dds/netscope/resources/example/20230207_0456GMT\"\n",
    "loader = Loader(log_dir)\n",
    "burst = loader.load_hosts(debug=True)\n",
    "\n",
    "# log_dir = \"/mnt/netscope/data/slot2/s2l4/ecmp_imbalance2/20221005_2131GMT\"\n",
    "# loader = Loader(log_dir)\n",
    "# ecmp = loader.load_hosts(debug=True)"
   ]
  },
  {
   "cell_type": "code",
   "execution_count": 5,
   "metadata": {},
   "outputs": [],
   "source": [
    "burst.to_csv('burst2.csv', index=False)\n",
    "# ecmp.to_csv('ecmp.csv', index=False)"
   ]
  },
  {
   "cell_type": "code",
   "execution_count": 115,
   "metadata": {},
   "outputs": [
    {
     "data": {
      "image/png": "[encoded data removed]",
      "text/plain": [
       "<Figure size 504x216 with 2 Axes>"
      ]
     },
     "metadata": {
      "needs_background": "light"
     },
     "output_type": "display_data"
    }
   ],
   "source": [
    "col = 'flow'\n",
    "pattern = 's7,s6,s3,s14,s16,'\n",
    "fig, axes = plt.subplots(nrows=1, ncols=2, sharex=False, figsize=(7, 3)) \n",
    "for i, c in enumerate(sorted(burst[col].unique())):\n",
    "    # if not pattern in c: continue\n",
    "    burst[burst[col]==c].plot('arrive_t', 'latency', ax=axes[0], label=c, alpha=0.3, lw=1, \n",
    "                              marker=markers[i], ls='')\n",
    "axes[0].set_ylabel('latency')\n",
    "axes[0].set_xlim(burst.arrive_t.min() + 4e7, burst.arrive_t.max())\n",
    "axes[0].set_title('Micro-burst')\n",
    "\n",
    "col = 'whole_path'\n",
    "k = 0\n",
    "for i, c in enumerate(['s1', 's2']):\n",
    "    p_df = ecmp[ecmp.path_str.str.contains(c)]\n",
    "    \n",
    "    cmap = mpl.cm.get_cmap(['Blues', 'Oranges'][i])\n",
    "    cmap_idx = np.linspace(0.4, 0.9, len(p_df.whole_path.unique()))\n",
    "    j = 0\n",
    "    for _, sdf in p_df.groupby('whole_path'):\n",
    "        sdf.plot('arrive_t', 'latency', ax=axes[1], label=c, alpha=0.3, lw=1, \n",
    "                 marker=markers[k], ls='', color=cmap(cmap_idx[j]))\n",
    "        k += 1\n",
    "        j += 1\n",
    "axes[1].set_xlim(ecmp.arrive_t.min() + 5.5e7, ecmp.arrive_t.max() - 1e7)\n",
    "axes[1].set_ylim(0.8e7, 1.8e7)\n",
    "\n",
    "for i in range(2):\n",
    "    axes[i].set_xlabel('timestamp')\n",
    "    axes[i].set_xticks([])\n",
    "    axes[i].legend_.remove()\n",
    "    # axes[i].set_yticks([])\n",
    "    # axes[i].spines[\"bottom\"].set_position((\"data\", 0))\n",
    "    # axes[i].plot(1, 0, \">k\", transform=axes[i].get_yaxis_transform(), clip_on=False)"
   ]
  },
  {
   "cell_type": "code",
   "execution_count": 105,
   "metadata": {},
   "outputs": [
    {
     "data": {
      "text/plain": [
       "array([0. , 0.5, 1. ])"
      ]
     },
     "execution_count": 105,
     "metadata": {},
     "output_type": "execute_result"
    }
   ],
   "source": [
    "np.linspace(0.5, 0.8, 3)"
   ]
  },
  {
   "cell_type": "code",
   "execution_count": 84,
   "metadata": {},
   "outputs": [
    {
     "data": {
      "text/plain": [
       "(0.2196078431372549, 0.4235294117647059, 0.6901960784313725, 1.0)"
      ]
     },
     "execution_count": 84,
     "metadata": {},
     "output_type": "execute_result"
    }
   ],
   "source": [
    "plt.get_cmap('Accent')(5)\n",
    "plt.cm.Accent(4)"
   ]
  },
  {
   "cell_type": "code",
   "execution_count": 10,
   "metadata": {},
   "outputs": [
    {
     "data": {
      "text/plain": [
       "array(['h16,s20,s18,s3,s10,s11,h6', 'h16,s20,s17,s1,s9,s11,h6',\n",
       "       'h5,s11,h6', 'h16,s20,s17,s2,s9,s11,h6'], dtype=object)"
      ]
     },
     "execution_count": 10,
     "metadata": {},
     "output_type": "execute_result"
    }
   ],
   "source": [
    "hosts[hosts.latency> 0.5e6].whole_path.unique()"
   ]
  },
  {
   "cell_type": "code",
   "execution_count": 90,
   "metadata": {},
   "outputs": [],
   "source": [
    "jet = cm = plt.get_cmap('Reds')\n",
    "# cNorm = colors.Normalize(vmin=0, vmax=5)\n",
    "# scalarMap = cmx.ScalarMappable(norm=cNorm, cmap=jet)"
   ]
  },
  {
   "cell_type": "code",
   "execution_count": 93,
   "metadata": {},
   "outputs": [
    {
     "ename": "AttributeError",
     "evalue": "'LinearSegmentedColormap' object has no attribute 'Normalize'",
     "output_type": "error",
     "traceback": [
      "\u001b[0;31m---------------------------------------------------------------------------\u001b[0m",
      "\u001b[0;31mAttributeError\u001b[0m                            Traceback (most recent call last)",
      "\u001b[0;32m<ipython-input-93-a1847b894ac1>\u001b[0m in \u001b[0;36m<module>\u001b[0;34m\u001b[0m\n\u001b[0;32m----> 1\u001b[0;31m \u001b[0mcm\u001b[0m\u001b[0;34m.\u001b[0m\u001b[0mNormalize\u001b[0m\u001b[0;34m(\u001b[0m\u001b[0mvmin\u001b[0m\u001b[0;34m=\u001b[0m\u001b[0;36m0\u001b[0m\u001b[0;34m,\u001b[0m \u001b[0mvmax\u001b[0m\u001b[0;34m=\u001b[0m\u001b[0;36m5\u001b[0m\u001b[0;34m)\u001b[0m\u001b[0;34m\u001b[0m\u001b[0;34m\u001b[0m\u001b[0m\n\u001b[0m",
      "\u001b[0;31mAttributeError\u001b[0m: 'LinearSegmentedColormap' object has no attribute 'Normalize'"
     ]
    }
   ],
   "source": [
    "cm.Normalize(vmin=0, vmax=5)"
   ]
  },
  {
   "cell_type": "code",
   "execution_count": 98,
   "metadata": {},
   "outputs": [
    {
     "data": {
      "text/plain": [
       "[<matplotlib.lines.Line2D at 0x7f0bb8138c88>]"
      ]
     },
     "execution_count": 98,
     "metadata": {},
     "output_type": "execute_result"
    },
    {
     "data": {
      "image/png": "[encoded data removed]",
      "text/plain": [
       "<Figure size 432x252 with 1 Axes>"
      ]
     },
     "metadata": {
      "needs_background": "light"
     },
     "output_type": "display_data"
    }
   ],
   "source": [
    "cmap = mpl.cm.get_cmap('Spectral')\n",
    "cmap(0.5)\n",
    "plt.plot([1,1], [2,2])#, color=cmap(0.5))"
   ]
  },
  {
   "cell_type": "code",
   "execution_count": 102,
   "metadata": {},
   "outputs": [
    {
     "data": {
      "text/plain": [
       "[<matplotlib.lines.Line2D at 0x7f0bb5e6c940>]"
      ]
     },
     "execution_count": 102,
     "metadata": {},
     "output_type": "execute_result"
    },
    {
     "data": {
      "image/png": "[encoded data removed]",
      "text/plain": [
       "<Figure size 432x252 with 1 Axes>"
      ]
     },
     "metadata": {
      "needs_background": "light"
     },
     "output_type": "display_data"
    }
   ],
   "source": [
    "plt.plot(range(4), range(4), c='r')\n",
    "plt.plot(range(4), range(4), c=cmap(0.5))"
   ]
  },
  {
   "cell_type": "code",
   "execution_count": 88,
   "metadata": {},
   "outputs": [
    {
     "data": {
      "text/plain": [
       "array([0.49803922, 0.78823529, 0.49803922, 1.        ])"
      ]
     },
     "execution_count": 88,
     "metadata": {},
     "output_type": "execute_result"
    }
   ],
   "source": [
    "plt.get_cmap('Accent')(range(5))[0]"
   ]
  }
 ],
 "metadata": {
  "kernelspec": {
   "display_name": "Python 3.6.9 64-bit",
   "language": "python",
   "name": "python3"
  },
  "language_info": {
   "codemirror_mode": {
    "name": "ipython",
    "version": 3
   },
   "file_extension": ".py",
   "mimetype": "text/x-python",
   "name": "python",
   "nbconvert_exporter": "python",
   "pygments_lexer": "ipython3",
   "version": "3.6.9"
  },
  "orig_nbformat": 4,
  "vscode": {
   "interpreter": {
    "hash": "767d51c1340bd893661ea55ea3124f6de3c7a262a8b4abca0554b478b1e2ff90"
   }
  }
 },
 "nbformat": 4,
 "nbformat_minor": 2
}
