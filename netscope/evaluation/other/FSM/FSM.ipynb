{
 "cells": [
  {
   "cell_type": "code",
   "execution_count": 1,
   "metadata": {},
   "outputs": [],
   "source": [
    "import os\n",
    "import re\n",
    "from matplotlib import pyplot as plt\n",
    "import matplotlib as mpl\n",
    "import numpy as np\n",
    "import pandas as pd\n",
    "import math\n",
    "\n",
    "mpl.rcParams.update({\n",
    "#     'axes.spines.right': False,\n",
    "    'axes.spines.top': False,\n",
    "})\n",
    "plt.rc('figure', figsize=[6,3.5])\n",
    "plt.rc('font', family='Times New Roman', size=18)\n",
    "\n",
    "if not os.path.abspath('.').endswith('netscope'):\n",
    "    current_dir = os.path.abspath('.')\n",
    "    root_path = os.path.dirname(os.path.dirname(os.path.dirname(os.path.abspath('.'))))\n",
    "    os.chdir(root_path)\n",
    "    from analysis.load import Loader\n",
    "    from evaluation.intsight.IntSight import IntSight\n",
    "    from analysis.utils import export_FSP\n",
    "    from analysis.spmf import Spmf"
   ]
  },
  {
   "cell_type": "code",
   "execution_count": 3,
   "metadata": {},
   "outputs": [],
   "source": [
    "log_dir = '/home/user/dds/netscope/experiment/data/slot2/burst/20221004_1713GMT'\n",
    "log_dir = '/mnt/netscope/data/slot2/fattree4/burst/20221010_1428GMT'\n",
    "loader = Loader(log_dir)\n",
    "# topo = loader.get_topo()\n",
    "# digests = loader.load_digest()\n",
    "# latencys = loader.load_latency()\n",
    "hosts = loader.load_hosts()"
   ]
  },
  {
   "cell_type": "code",
   "execution_count": 4,
   "metadata": {},
   "outputs": [],
   "source": [
    "spmf_name = 'evaluation'\n",
    "fn = f'spmf/input_{spmf_name}'\n",
    "export_FSP(hosts, fn)\n",
    "\n",
    "kwargs = dict(input_filename=f\"./build/{fn}.txt\",\n",
    "    output_filename=f\"./build/spmf/output_{spmf_name}.txt\", \n",
    "    spmf_bin_location_dir=\"./analysis\",\n",
    "    echo=False)"
   ]
  },
  {
   "cell_type": "code",
   "execution_count": 5,
   "metadata": {},
   "outputs": [
    {
     "name": "stdout",
     "output_type": "stream",
     "text": [
      "{'name': 'PrefixSpan', 'args': [0.0]}\n",
      "{'name': 'PrefixSpan', 'args': [0.0, 2]}\n",
      "{'name': 'GSP', 'args': [0.0]}\n",
      "{'name': 'SPADE', 'args': [0.0]}\n",
      "{'name': 'CM-SPADE', 'args': [0.0]}\n",
      "{'name': 'SPAM', 'args': [0.0]}\n",
      "{'name': 'SPAM', 'args': [0.0, 1, 2, 1]}\n",
      "{'name': 'CM-SPAM', 'args': [0.0]}\n",
      "{'name': 'CM-SPAM', 'args': [0.0, 1, 2, '', 1]}\n",
      "{'name': 'LAPIN', 'args': [0.0]}\n"
     ]
    }
   ],
   "source": [
    "exp_list = [\n",
    "    dict(name=\"PrefixSpan\", args=[0.]),\n",
    "    dict(name=\"PrefixSpan\", args=[0., 2]),\n",
    "    dict(name=\"GSP\", args=[0.]),\n",
    "    dict(name=\"SPADE\", args=[0.]),\n",
    "    dict(name=\"CM-SPADE\", args=[0.]),\n",
    "    dict(name=\"SPAM\", args=[0.]), # https://www.philippe-fournier-viger.com/spmf/SPAM.php\n",
    "    dict(name=\"SPAM\", args=[0., 1, 2, 1]),\n",
    "    dict(name=\"CM-SPAM\", args=[0.]),\n",
    "    dict(name=\"CM-SPAM\", args=[0., 1, 2, \"\", 1]),\n",
    "    dict(name=\"LAPIN\", args=[0.]),\n",
    "]\n",
    "\n",
    "\n",
    "data = []\n",
    "for exp_d in exp_list:\n",
    "    print(exp_d)\n",
    "    spmf = Spmf(exp_d['name'], arguments=exp_d['args'], **kwargs)\n",
    "    spmf.run()\n",
    "    output = spmf.proc_output\n",
    "    totalTime = int(re.findall(r\"Total time ~ (\\d+) ms\", output)[0])\n",
    "    memory = float(re.findall(r\"Max memory \\(mb\\) ?: ?([\\.\\d]+)\", output)[0])\n",
    "    exp_d.update(dict(\n",
    "        totalTime=totalTime,\n",
    "        memory=memory,\n",
    "    ))\n",
    "    if len(exp_d['args']) > 1:\n",
    "        exp_d['name'] += \"*\"\n",
    "    data.append(exp_d)"
   ]
  },
  {
   "cell_type": "code",
   "execution_count": 6,
   "metadata": {},
   "outputs": [
    {
     "data": {
      "text/html": [
       "<div>\n",
       "<style scoped>\n",
       "    .dataframe tbody tr th:only-of-type {\n",
       "        vertical-align: middle;\n",
       "    }\n",
       "\n",
       "    .dataframe tbody tr th {\n",
       "        vertical-align: top;\n",
       "    }\n",
       "\n",
       "    .dataframe thead th {\n",
       "        text-align: right;\n",
       "    }\n",
       "</style>\n",
       "<table border=\"1\" class=\"dataframe\">\n",
       "  <thead>\n",
       "    <tr style=\"text-align: right;\">\n",
       "      <th></th>\n",
       "      <th>name</th>\n",
       "      <th>args</th>\n",
       "      <th>totalTime</th>\n",
       "      <th>memory</th>\n",
       "    </tr>\n",
       "  </thead>\n",
       "  <tbody>\n",
       "    <tr>\n",
       "      <th>1</th>\n",
       "      <td>PrefixSpan*</td>\n",
       "      <td>[0.0, 2]</td>\n",
       "      <td>53</td>\n",
       "      <td>12.661484</td>\n",
       "    </tr>\n",
       "    <tr>\n",
       "      <th>0</th>\n",
       "      <td>PrefixSpan</td>\n",
       "      <td>[0.0]</td>\n",
       "      <td>65</td>\n",
       "      <td>14.181190</td>\n",
       "    </tr>\n",
       "    <tr>\n",
       "      <th>8</th>\n",
       "      <td>CM-SPAM*</td>\n",
       "      <td>[0.0, 1, 2, , 1]</td>\n",
       "      <td>104</td>\n",
       "      <td>22.663185</td>\n",
       "    </tr>\n",
       "    <tr>\n",
       "      <th>6</th>\n",
       "      <td>SPAM*</td>\n",
       "      <td>[0.0, 1, 2, 1]</td>\n",
       "      <td>112</td>\n",
       "      <td>18.699219</td>\n",
       "    </tr>\n",
       "    <tr>\n",
       "      <th>4</th>\n",
       "      <td>CM-SPADE</td>\n",
       "      <td>[0.0]</td>\n",
       "      <td>118</td>\n",
       "      <td>16.525261</td>\n",
       "    </tr>\n",
       "    <tr>\n",
       "      <th>3</th>\n",
       "      <td>SPADE</td>\n",
       "      <td>[0.0]</td>\n",
       "      <td>145</td>\n",
       "      <td>61.703491</td>\n",
       "    </tr>\n",
       "    <tr>\n",
       "      <th>7</th>\n",
       "      <td>CM-SPAM</td>\n",
       "      <td>[0.0]</td>\n",
       "      <td>146</td>\n",
       "      <td>24.663155</td>\n",
       "    </tr>\n",
       "    <tr>\n",
       "      <th>5</th>\n",
       "      <td>SPAM</td>\n",
       "      <td>[0.0]</td>\n",
       "      <td>162</td>\n",
       "      <td>24.699219</td>\n",
       "    </tr>\n",
       "    <tr>\n",
       "      <th>9</th>\n",
       "      <td>LAPIN</td>\n",
       "      <td>[0.0]</td>\n",
       "      <td>170</td>\n",
       "      <td>24.699219</td>\n",
       "    </tr>\n",
       "    <tr>\n",
       "      <th>2</th>\n",
       "      <td>GSP</td>\n",
       "      <td>[0.0]</td>\n",
       "      <td>636</td>\n",
       "      <td>122.673859</td>\n",
       "    </tr>\n",
       "  </tbody>\n",
       "</table>\n",
       "</div>"
      ],
      "text/plain": [
       "          name              args  totalTime      memory\n",
       "1  PrefixSpan*          [0.0, 2]         53   12.661484\n",
       "0   PrefixSpan             [0.0]         65   14.181190\n",
       "8     CM-SPAM*  [0.0, 1, 2, , 1]        104   22.663185\n",
       "6        SPAM*    [0.0, 1, 2, 1]        112   18.699219\n",
       "4     CM-SPADE             [0.0]        118   16.525261\n",
       "3        SPADE             [0.0]        145   61.703491\n",
       "7      CM-SPAM             [0.0]        146   24.663155\n",
       "5         SPAM             [0.0]        162   24.699219\n",
       "9        LAPIN             [0.0]        170   24.699219\n",
       "2          GSP             [0.0]        636  122.673859"
      ]
     },
     "execution_count": 6,
     "metadata": {},
     "output_type": "execute_result"
    }
   ],
   "source": [
    "df = pd.DataFrame(data)\n",
    "df = df.sort_values(['totalTime'])\n",
    "df"
   ]
  },
  {
   "cell_type": "code",
   "execution_count": 7,
   "metadata": {},
   "outputs": [],
   "source": [
    "# df.to_csv(\"PSM.csv\", index=False)"
   ]
  },
  {
   "cell_type": "code",
   "execution_count": 87,
   "metadata": {},
   "outputs": [
    {
     "name": "stderr",
     "output_type": "stream",
     "text": [
      "The PostScript backend does not support transparency; partially transparent artists will be rendered opaque.The PostScript backend does not support transparency; partially transparent artists will be rendered opaque.The PostScript backend does not support transparency; partially transparent artists will be rendered opaque.The PostScript backend does not support transparency; partially transparent artists will be rendered opaque."
     ]
    },
    {
     "data": {
      "image/png": "[encoded data removed]",
      "text/plain": [
       "<Figure size 576x194.4 with 2 Axes>"
      ]
     },
     "metadata": {
      "needs_background": "light"
     },
     "output_type": "display_data"
    }
   ],
   "source": [
    "fig = plt.figure(figsize=(8, 2.7))\n",
    "ax = fig.add_subplot(111)\n",
    "\n",
    "legend_prop = dict(size=16)\n",
    "\n",
    "for i, row in df.iterrows():    \n",
    "    if row['name'].endswith(\"*\"):\n",
    "        hatch = \"x\"\n",
    "        label = \"pattern len $\\leq$ 2\"\n",
    "    else:\n",
    "        hatch = \"\"\n",
    "        label = \"default\"\n",
    "    kwargs = dict(zorder=200, hatch=hatch, edgecolor='k', color='w', label=\"\" if i > 1 else label)\n",
    "    ax.bar(row['name'], row['totalTime'], **kwargs)\n",
    "# ax.plot(df['name'], df['totalTime'], marker=\"o\", ls='')\n",
    "# plt.xticks(rotation = -45);\n",
    "ax.tick_params(axis='x', labelrotation = -90)\n",
    "ax.set_ylabel(\"running time (ms)\")\n",
    "ax.grid(c='#77b1d1', axis='y')\n",
    "ax.legend(loc=\"upper left\", bbox_to_anchor=(0, 1), prop=legend_prop)\n",
    "\n",
    "\n",
    "ax2 = ax.twinx()\n",
    "# ax2.grid(c='#ff848f', axis='y')\n",
    "ax2.plot(df['name'], df['memory'], marker=\"o\", ls='', c='r', ms=8, zorder=110, label=\"memory\")\n",
    "ax2.set_ylabel(\"memory (mb)\")\n",
    "ax2.legend(loc=\"upper right\", bbox_to_anchor=(0.88, 1), prop=legend_prop)\n",
    "# plt.subplots_adjust(bottom=0)\n",
    "plt.savefig(os.path.join(current_dir, 'spmf.eps'), bbox_inches = 'tight')"
   ]
  },
  {
   "cell_type": "code",
   "execution_count": 7,
   "metadata": {},
   "outputs": [],
   "source": [
    "Spmf(\"PrefixSpan\", arguments=[0., 2], **kwargs).run()"
   ]
  },
  {
   "cell_type": "code",
   "execution_count": 8,
   "metadata": {},
   "outputs": [
    {
     "name": "stdout",
     "output_type": "stream",
     "text": [
      ">/home/user/dds/netscope/analysis/spmf.jar\n",
      "An error while trying to run the algorithm. \n",
      " ERROR MESSAGE = java.lang.IllegalArgumentException: \n",
      "\n",
      " The 2nd parameter of this algorithm 'Maxsup (%)' is mandatory. Please provide a value of type: Float.\n",
      "\n"
     ]
    },
    {
     "ename": "TypeError",
     "evalue": "java.lang.IllegalArgumentException",
     "output_type": "error",
     "traceback": [
      "\u001b[0;31m---------------------------------------------------------------------------\u001b[0m",
      "\u001b[0;31mTypeError\u001b[0m                                 Traceback (most recent call last)",
      "\u001b[0;32m<ipython-input-8-49f55b9374d2>\u001b[0m in \u001b[0;36m<module>\u001b[0;34m\u001b[0m\n\u001b[1;32m      1\u001b[0m \u001b[0;31m# https://www.philippe-fournier-viger.com/spmf/FAST.php\u001b[0m\u001b[0;34m\u001b[0m\u001b[0;34m\u001b[0m\u001b[0;34m\u001b[0m\u001b[0m\n\u001b[0;32m----> 2\u001b[0;31m \u001b[0mSpmf\u001b[0m\u001b[0;34m(\u001b[0m\u001b[0;34m\"Fast\"\u001b[0m\u001b[0;34m,\u001b[0m \u001b[0marguments\u001b[0m\u001b[0;34m=\u001b[0m\u001b[0;34m[\u001b[0m\u001b[0;36m0.\u001b[0m\u001b[0;34m]\u001b[0m\u001b[0;34m,\u001b[0m \u001b[0;34m**\u001b[0m\u001b[0mkwargs\u001b[0m\u001b[0;34m)\u001b[0m\u001b[0;34m.\u001b[0m\u001b[0mrun\u001b[0m\u001b[0;34m(\u001b[0m\u001b[0;34m)\u001b[0m\u001b[0;34m\u001b[0m\u001b[0;34m\u001b[0m\u001b[0m\n\u001b[0m",
      "\u001b[0;32m~/dds/netscope/analysis/spmf.py\u001b[0m in \u001b[0;36mrun\u001b[0;34m(self)\u001b[0m\n\u001b[1;32m    118\u001b[0m         \u001b[0;32mif\u001b[0m \u001b[0;34m\"java.lang.IllegalArgumentException\"\u001b[0m \u001b[0;32min\u001b[0m \u001b[0mproc_output\u001b[0m\u001b[0;34m:\u001b[0m\u001b[0;34m\u001b[0m\u001b[0;34m\u001b[0m\u001b[0m\n\u001b[1;32m    119\u001b[0m             \u001b[0mprint\u001b[0m\u001b[0;34m(\u001b[0m\u001b[0mproc_output\u001b[0m\u001b[0;34m)\u001b[0m\u001b[0;34m\u001b[0m\u001b[0;34m\u001b[0m\u001b[0m\n\u001b[0;32m--> 120\u001b[0;31m             \u001b[0;32mraise\u001b[0m \u001b[0mTypeError\u001b[0m\u001b[0;34m(\u001b[0m\u001b[0;34m\"java.lang.IllegalArgumentException\"\u001b[0m\u001b[0;34m)\u001b[0m\u001b[0;34m\u001b[0m\u001b[0;34m\u001b[0m\u001b[0m\n\u001b[0m\u001b[1;32m    121\u001b[0m \u001b[0;34m\u001b[0m\u001b[0m\n\u001b[1;32m    122\u001b[0m     \u001b[0;32mdef\u001b[0m \u001b[0mparse_output\u001b[0m\u001b[0;34m(\u001b[0m\u001b[0mself\u001b[0m\u001b[0;34m)\u001b[0m\u001b[0;34m:\u001b[0m\u001b[0;34m\u001b[0m\u001b[0;34m\u001b[0m\u001b[0m\n",
      "\u001b[0;31mTypeError\u001b[0m: java.lang.IllegalArgumentException"
     ]
    }
   ],
   "source": [
    "# https://www.philippe-fournier-viger.com/spmf/FAST.php\n",
    "Spmf(\"Fast\", arguments=[0.], **kwargs).run()"
   ]
  },
  {
   "cell_type": "code",
   "execution_count": null,
   "metadata": {},
   "outputs": [],
   "source": []
  }
 ],
 "metadata": {
  "kernelspec": {
   "display_name": "Python 3.6.9 64-bit",
   "language": "python",
   "name": "python3"
  },
  "language_info": {
   "codemirror_mode": {
    "name": "ipython",
    "version": 3
   },
   "file_extension": ".py",
   "mimetype": "text/x-python",
   "name": "python",
   "nbconvert_exporter": "python",
   "pygments_lexer": "ipython3",
   "version": "3.6.9"
  },
  "orig_nbformat": 4,
  "vscode": {
   "interpreter": {
    "hash": "767d51c1340bd893661ea55ea3124f6de3c7a262a8b4abca0554b478b1e2ff90"
   }
  }
 },
 "nbformat": 4,
 "nbformat_minor": 2
}
