{
 "cells": [
  {
   "cell_type": "code",
   "execution_count": 1,
   "metadata": {},
   "outputs": [],
   "source": [
    "\n",
    "import os\n",
    "import numpy as np\n",
    "import pandas as pd\n",
    "import math\n",
    "from matplotlib import pyplot as plt\n",
    "import matplotlib as mpl\n",
    "\n",
    "mpl.rcParams['figure.figsize'] = [4,2.5]\n",
    "plt.rc('font', family='Times New Roman')\n",
    "\n",
    "markers = list('ov^<>12348sp*hH+xXDd|_.,')+[i for i in range(12)]\n",
    "\n",
    "colors = [\"#0077b4\", \"#0096c5\", \"#00b4d6\", \"#3ecae3\", \"#8de0ee\"]\n",
    "\n",
    "\n",
    "# if not os.path.abspath('.').endswith('netscope'):\n",
    "#     root_path = os.path.dirname(os.path.dirname(os.path.dirname(os.path.abspath('.'))))\n",
    "#     os.chdir(root_path)\n",
    "#     # from analysis.load import Loader\n",
    "#     # from evaluation.intsight.IntSight import IntSight"
   ]
  },
  {
   "cell_type": "code",
   "execution_count": 2,
   "metadata": {},
   "outputs": [],
   "source": [
    "mpl.rcParams.update({\n",
    "    'axes.spines.right': False,\n",
    "    'axes.spines.top': False,\n",
    "})\n",
    "plt.rc('figure', figsize=[6,3.5])\n",
    "plt.rc('font', family='Times New Roman', size=18)\n",
    "\n",
    "def draw(plot_df, ks=[1,2,3,5,10]):\n",
    "    bar_width = 1/(len(plot_df)+3)\n",
    "    xs = np.arange(len(plot_df))\n",
    "    plt.xticks(xs+0.3, plot_df.name)\n",
    "    plt.grid(axis='y')\n",
    "    for ik, k in enumerate(ks):\n",
    "        plt.bar(xs, plot_df[f\"t{k}\"], width=bar_width, label=f'top {k}', color=colors[ik], zorder=10)\n",
    "        xs = xs + bar_width\n",
    "    plt.legend(loc=\"lower left\", prop={'size': 12}).set_zorder(20)\n",
    "    plt.ylabel(\"Precision (%)\")\n",
    "    plt.subplots_adjust(right = 1, top=1)"
   ]
  },
  {
   "cell_type": "code",
   "execution_count": 4,
   "metadata": {},
   "outputs": [
    {
     "data": {
      "text/html": [
       "<div>\n",
       "<style scoped>\n",
       "    .dataframe tbody tr th:only-of-type {\n",
       "        vertical-align: middle;\n",
       "    }\n",
       "\n",
       "    .dataframe tbody tr th {\n",
       "        vertical-align: top;\n",
       "    }\n",
       "\n",
       "    .dataframe thead th {\n",
       "        text-align: right;\n",
       "    }\n",
       "</style>\n",
       "<table border=\"1\" class=\"dataframe\">\n",
       "  <thead>\n",
       "    <tr style=\"text-align: right;\">\n",
       "      <th></th>\n",
       "      <th>name</th>\n",
       "      <th>t1</th>\n",
       "      <th>t2</th>\n",
       "      <th>t3</th>\n",
       "      <th>t5</th>\n",
       "      <th>t10</th>\n",
       "    </tr>\n",
       "  </thead>\n",
       "  <tbody>\n",
       "    <tr>\n",
       "      <th>0</th>\n",
       "      <td>NetScope</td>\n",
       "      <td>75.000000</td>\n",
       "      <td>85.416667</td>\n",
       "      <td>91.666667</td>\n",
       "      <td>95.833333</td>\n",
       "      <td>95.833333</td>\n",
       "    </tr>\n",
       "    <tr>\n",
       "      <th>1</th>\n",
       "      <td>SpiderMon</td>\n",
       "      <td>47.916667</td>\n",
       "      <td>58.333333</td>\n",
       "      <td>64.583333</td>\n",
       "      <td>70.833333</td>\n",
       "      <td>100.000000</td>\n",
       "    </tr>\n",
       "    <tr>\n",
       "      <th>2</th>\n",
       "      <td>IntSight</td>\n",
       "      <td>10.416667</td>\n",
       "      <td>39.583333</td>\n",
       "      <td>60.416667</td>\n",
       "      <td>81.250000</td>\n",
       "      <td>91.666667</td>\n",
       "    </tr>\n",
       "    <tr>\n",
       "      <th>3</th>\n",
       "      <td>SyNDB</td>\n",
       "      <td>43.750000</td>\n",
       "      <td>72.916667</td>\n",
       "      <td>79.166667</td>\n",
       "      <td>93.750000</td>\n",
       "      <td>100.000000</td>\n",
       "    </tr>\n",
       "  </tbody>\n",
       "</table>\n",
       "</div>"
      ],
      "text/plain": [
       "        name         t1         t2         t3         t5         t10\n",
       "0   NetScope  75.000000  85.416667  91.666667  95.833333   95.833333\n",
       "1  SpiderMon  47.916667  58.333333  64.583333  70.833333  100.000000\n",
       "2   IntSight  10.416667  39.583333  60.416667  81.250000   91.666667\n",
       "3      SyNDB  43.750000  72.916667  79.166667  93.750000  100.000000"
      ]
     },
     "execution_count": 4,
     "metadata": {},
     "output_type": "execute_result"
    }
   ],
   "source": [
    "burst = pd.DataFrame([\n",
    "    dict(name=\"NetScope\", t1=71.4, t2=85.7, t3=100),\n",
    "    dict(name=\"IntSight\", t1=14.3, t2=42.9, t3=85.7, t5=85.7, t10=85.7),\n",
    "    dict(name=\"SpiderMon\", t1=14.3, t2=14.3, t3=28.6, top10=100),\n",
    "    dict(name=\"SyNDB\", t1=57.1, t2=85.7, t3=100),\n",
    "]).fillna(100)\n",
    "\n",
    "L = 21/100\n",
    "burst = pd.DataFrame([\n",
    "    dict(name=\"NetScope\", t1=19/L, t2=21/L),\n",
    "    dict(name=\"IntSight\", t1=5/L, t2=9/L, t3=14/L, t5=14/L, t10=14/L),\n",
    "    dict(name=\"SpiderMon\", t1=1/L, t2=3/L, t3=4/L, t5=7/L, t10=21/L),\n",
    "    dict(name=\"SyNDB\", t1=16/L, t2=20/L, t3=20/L, t5=21/L),\n",
    "]).fillna(100)\n",
    "\n",
    "L = 48/100\n",
    "burst = pd.DataFrame([\n",
    "    dict(name=\"NetScope\", t1=36/L, t2=41/L, t3=44/L, t5=46/L, t10=46/L),\n",
    "    dict(name=\"SpiderMon\", t1=23/L, t2=28/L, t3=31/L, t5=34/L, t10=48/L),\n",
    "    dict(name=\"IntSight\", t1=5/L, t2=19/L, t3=29/L, t5=39/L, t10=44/L),\n",
    "    dict(name=\"SyNDB\", t1=21/L, t2=35/L, t3=38/L, t5=45/L, t10=48/L),\n",
    "]).fillna(100)\n",
    "burst"
   ]
  },
  {
   "cell_type": "code",
   "execution_count": 5,
   "metadata": {},
   "outputs": [
    {
     "data": {
      "image/png": "[encoded data removed]",
      "text/plain": [
       "<Figure size 432x252 with 1 Axes>"
      ]
     },
     "metadata": {
      "needs_background": "light"
     },
     "output_type": "display_data"
    }
   ],
   "source": [
    "draw(burst, ks=[1,2,3,5,10][:5])\n",
    "plt.savefig('topk_burst.pdf')\n",
    "# plt.subplots_adjust(top = 1, bottom = 0, right = 1, left = 0, hspace = 0, wspace = 0)\n",
    "\n",
    "# plt.savefig('topk_burst.png')"
   ]
  },
  {
   "cell_type": "code",
   "execution_count": 6,
   "metadata": {},
   "outputs": [
    {
     "data": {
      "text/html": [
       "<div>\n",
       "<style scoped>\n",
       "    .dataframe tbody tr th:only-of-type {\n",
       "        vertical-align: middle;\n",
       "    }\n",
       "\n",
       "    .dataframe tbody tr th {\n",
       "        vertical-align: top;\n",
       "    }\n",
       "\n",
       "    .dataframe thead th {\n",
       "        text-align: right;\n",
       "    }\n",
       "</style>\n",
       "<table border=\"1\" class=\"dataframe\">\n",
       "  <thead>\n",
       "    <tr style=\"text-align: right;\">\n",
       "      <th></th>\n",
       "      <th>name</th>\n",
       "      <th>t1</th>\n",
       "      <th>t2</th>\n",
       "      <th>t3</th>\n",
       "      <th>t5</th>\n",
       "      <th>t10</th>\n",
       "    </tr>\n",
       "  </thead>\n",
       "  <tbody>\n",
       "    <tr>\n",
       "      <th>0</th>\n",
       "      <td>NetScope</td>\n",
       "      <td>87.500000</td>\n",
       "      <td>100.000000</td>\n",
       "      <td>100.000000</td>\n",
       "      <td>100.000000</td>\n",
       "      <td>100.000000</td>\n",
       "    </tr>\n",
       "    <tr>\n",
       "      <th>1</th>\n",
       "      <td>SpiderMon</td>\n",
       "      <td>37.500000</td>\n",
       "      <td>66.666667</td>\n",
       "      <td>95.833333</td>\n",
       "      <td>100.000000</td>\n",
       "      <td>100.000000</td>\n",
       "    </tr>\n",
       "    <tr>\n",
       "      <th>2</th>\n",
       "      <td>IntSight</td>\n",
       "      <td>29.166667</td>\n",
       "      <td>50.000000</td>\n",
       "      <td>54.166667</td>\n",
       "      <td>95.833333</td>\n",
       "      <td>95.833333</td>\n",
       "    </tr>\n",
       "    <tr>\n",
       "      <th>3</th>\n",
       "      <td>SyNDB</td>\n",
       "      <td>4.166667</td>\n",
       "      <td>8.333333</td>\n",
       "      <td>12.500000</td>\n",
       "      <td>20.833333</td>\n",
       "      <td>83.333333</td>\n",
       "    </tr>\n",
       "  </tbody>\n",
       "</table>\n",
       "</div>"
      ],
      "text/plain": [
       "        name         t1          t2          t3          t5         t10\n",
       "0   NetScope  87.500000  100.000000  100.000000  100.000000  100.000000\n",
       "1  SpiderMon  37.500000   66.666667   95.833333  100.000000  100.000000\n",
       "2   IntSight  29.166667   50.000000   54.166667   95.833333   95.833333\n",
       "3      SyNDB   4.166667    8.333333   12.500000   20.833333   83.333333"
      ]
     },
     "execution_count": 6,
     "metadata": {},
     "output_type": "execute_result"
    }
   ],
   "source": [
    "L = 24/100\n",
    "ecmp = pd.DataFrame([\n",
    "    dict(name=\"NetScope\", t1=21/L, t2=24/L),\n",
    "    dict(name=\"SpiderMon\", t1=9/L, t2=16/L, t3=23/L, t5=24/L),\n",
    "    dict(name=\"IntSight\", t1=7/L, t2=12/L, t3=13/L, t5=23/L, t10=23/L),\n",
    "    dict(name=\"SyNDB\", t1=1/L, t2=2/L, t3=3/L, t5=5/L, t10=20/L),\n",
    "]).fillna(100)\n",
    "ecmp"
   ]
  },
  {
   "cell_type": "code",
   "execution_count": 72,
   "metadata": {},
   "outputs": [
    {
     "data": {
      "image/png": "[encoded data removed]",
      "text/plain": [
       "<Figure size 432x252 with 1 Axes>"
      ]
     },
     "metadata": {
      "needs_background": "light"
     },
     "output_type": "display_data"
    }
   ],
   "source": [
    "draw(ecmp)\n",
    "plt.savefig('topk_ecmp.pdf')"
   ]
  },
  {
   "cell_type": "code",
   "execution_count": null,
   "metadata": {},
   "outputs": [],
   "source": []
  }
 ],
 "metadata": {
  "kernelspec": {
   "display_name": "Python 3.6.9 64-bit",
   "language": "python",
   "name": "python3"
  },
  "language_info": {
   "codemirror_mode": {
    "name": "ipython",
    "version": 3
   },
   "file_extension": ".py",
   "mimetype": "text/x-python",
   "name": "python",
   "nbconvert_exporter": "python",
   "pygments_lexer": "ipython3",
   "version": "3.6.9"
  },
  "orig_nbformat": 4,
  "vscode": {
   "interpreter": {
    "hash": "767d51c1340bd893661ea55ea3124f6de3c7a262a8b4abca0554b478b1e2ff90"
   }
  }
 },
 "nbformat": 4,
 "nbformat_minor": 2
}
