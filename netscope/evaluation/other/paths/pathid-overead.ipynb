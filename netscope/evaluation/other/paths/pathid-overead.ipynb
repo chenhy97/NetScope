{
 "cells": [
  {
   "cell_type": "code",
   "execution_count": 1,
   "metadata": {},
   "outputs": [],
   "source": [
    "from p4utils.utils.helper import load_topo\n",
    "from p4utils.utils.sswitch_thrift_API import SimpleSwitchThriftAPI\n",
    "import argparse\n",
    "import shutil\n",
    "import os\n",
    "import json\n",
    "from pprint import pprint\n",
    "from collections import defaultdict, Counter\n",
    "\n",
    "import struct\n",
    "import crcmod"
   ]
  },
  {
   "cell_type": "code",
   "execution_count": 2,
   "metadata": {},
   "outputs": [],
   "source": [
    "topo = load_topo(\"topo/fat-tree-k4.json\")\n",
    "\n",
    "m_IS = 7\n",
    "m_NS = 10"
   ]
  },
  {
   "cell_type": "code",
   "execution_count": 7,
   "metadata": {},
   "outputs": [],
   "source": [
    "all_paths = []\n",
    "flow_set = set()\n",
    "for src_h in topo.get_hosts():\n",
    "    dst = 's17'\n",
    "    if src_h == dst: continue\n",
    "    if (src_h, dst) in flow_set or (dst, src_h) in flow_set: continue\n",
    "    flow_set.add((src_h, dst))\n",
    "    all_paths += topo.get_shortest_paths_between_nodes(src_h, dst)\n",
    "all_paths = set([p[1:-1] for p in all_paths])"
   ]
  },
  {
   "cell_type": "code",
   "execution_count": 8,
   "metadata": {},
   "outputs": [
    {
     "data": {
      "text/plain": [
       "Counter({3: 12, 1: 2})"
      ]
     },
     "execution_count": 8,
     "metadata": {},
     "output_type": "execute_result"
    }
   ],
   "source": [
    "path_lens = Counter([len(p) for p in all_paths])\n",
    "path_lens"
   ]
  },
  {
   "cell_type": "code",
   "execution_count": 41,
   "metadata": {},
   "outputs": [
    {
     "data": {
      "text/plain": [
       "512"
      ]
     },
     "execution_count": 41,
     "metadata": {},
     "output_type": "execute_result"
    }
   ],
   "source": [
    "entry_num = 0\n",
    "for hop_num, path_num in path_lens.items():\n",
    "    entry_num += hop_num * path_num\n",
    "entry_num"
   ]
  },
  {
   "cell_type": "code",
   "execution_count": 22,
   "metadata": {},
   "outputs": [],
   "source": [
    "with open(\"topo/paths-k4.json\", \"r\") as f:\n",
    "    path_ctrl = json.load(f)"
   ]
  },
  {
   "cell_type": "code",
   "execution_count": 25,
   "metadata": {},
   "outputs": [
    {
     "data": {
      "text/plain": [
       "48"
      ]
     },
     "execution_count": 25,
     "metadata": {},
     "output_type": "execute_result"
    }
   ],
   "source": [
    "control_count = 0\n",
    "for ctrl in path_ctrl.values():\n",
    "    for c in ctrl['controls']:\n",
    "        if c != 0:\n",
    "            control_count += 1\n",
    "control_count"
   ]
  },
  {
   "cell_type": "code",
   "execution_count": 27,
   "metadata": {},
   "outputs": [
    {
     "data": {
      "text/plain": [
       "(4368, 480)"
      ]
     },
     "execution_count": 27,
     "metadata": {},
     "output_type": "execute_result"
    }
   ],
   "source": [
    "entry_num * m_IS, control_count * m_NS"
   ]
  },
  {
   "cell_type": "code",
   "execution_count": 29,
   "metadata": {},
   "outputs": [
    {
     "data": {
      "text/plain": [
       "43.61538461538461"
      ]
     },
     "execution_count": 29,
     "metadata": {},
     "output_type": "execute_result"
    }
   ],
   "source": [
    "(entry_num * m_IS - control_count * m_NS) / entry_num * m_IS\n"
   ]
  }
 ],
 "metadata": {
  "kernelspec": {
   "display_name": "Python 3.6.9 64-bit",
   "language": "python",
   "name": "python3"
  },
  "language_info": {
   "codemirror_mode": {
    "name": "ipython",
    "version": 3
   },
   "file_extension": ".py",
   "mimetype": "text/x-python",
   "name": "python",
   "nbconvert_exporter": "python",
   "pygments_lexer": "ipython3",
   "version": "3.6.9"
  },
  "orig_nbformat": 4,
  "vscode": {
   "interpreter": {
    "hash": "767d51c1340bd893661ea55ea3124f6de3c7a262a8b4abca0554b478b1e2ff90"
   }
  }
 },
 "nbformat": 4,
 "nbformat_minor": 2
}
