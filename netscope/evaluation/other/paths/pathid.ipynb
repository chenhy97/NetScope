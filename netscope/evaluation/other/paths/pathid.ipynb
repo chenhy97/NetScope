{
 "cells": [
  {
   "cell_type": "code",
   "execution_count": 150,
   "metadata": {},
   "outputs": [],
   "source": [
    "from p4utils.utils.helper import load_topo\n",
    "from p4utils.utils.sswitch_thrift_API import SimpleSwitchThriftAPI\n",
    "import argparse\n",
    "import shutil\n",
    "import os\n",
    "import json\n",
    "from pprint import pprint\n",
    "from collections import defaultdict, Counter\n",
    "\n",
    "from matplotlib import pyplot as plt\n",
    "import numpy as np\n",
    "\n",
    "import struct\n",
    "import crcmod\n",
    "\n",
    "import matplotlib as mpl\n",
    "mpl.rcParams.update({\n",
    "    'axes.spines.right': False,\n",
    "    'axes.spines.top': False,\n",
    "})\n",
    "plt.rc('figure', figsize=[6,3.5])\n",
    "plt.rc('font', family='Times New Roman', size=18)"
   ]
  },
  {
   "cell_type": "code",
   "execution_count": 37,
   "metadata": {},
   "outputs": [],
   "source": [
    "topo = load_topo(\"topo/fat-tree-k4.json\")\n",
    "\n",
    "m_IS = 7\n",
    "m_NS = 10"
   ]
  },
  {
   "cell_type": "code",
   "execution_count": 43,
   "metadata": {},
   "outputs": [],
   "source": [
    "def static(topo):\n",
    "    all_paths = []\n",
    "    flow_set = set()\n",
    "    for src_h in topo.get_hosts():\n",
    "        for dst_h in topo.get_hosts():\n",
    "            if src_h == dst_h: continue\n",
    "            if (src_h, dst_h) in flow_set or (dst_h, src_h) in flow_set: continue\n",
    "            flow_set.add((src_h, dst_h))\n",
    "            all_paths += topo.get_shortest_paths_between_nodes(src_h, dst_h)\n",
    "    all_paths = set([p[1:-1] for p in all_paths])\n",
    "    path_lens = Counter([len(p) for p in all_paths])\n",
    "    return path_lens"
   ]
  },
  {
   "cell_type": "code",
   "execution_count": 134,
   "metadata": {},
   "outputs": [],
   "source": [
    "topo_list = [\n",
    "    \"k2\",\n",
    "    \"k4\",\n",
    "    \"s2l4\",\n",
    "    \"s2l8\",\n",
    "    \"s4l8\",\n",
    "    # \"s4l16\",\n",
    "    \"s6l8\",\n",
    "    # \"s8l8\",\n",
    "    # \"s8l16\",\n",
    "    \"r-n16d6\",\n",
    "    \"r-n18d8\",\n",
    "    \"r-n20d10\",\n",
    "]"
   ]
  },
  {
   "cell_type": "code",
   "execution_count": 135,
   "metadata": {},
   "outputs": [],
   "source": [
    "def cal_NS(name):\n",
    "    with open(\"topo/paths-{}.json\".format(name), \"r\") as f:\n",
    "        path_ctrl = json.load(f)\n",
    "    control_count = 0\n",
    "    for ctrl in path_ctrl.values():\n",
    "        for c in ctrl['controls']:\n",
    "            if c != 0:\n",
    "                control_count += 1\n",
    "    return control_count"
   ]
  },
  {
   "cell_type": "code",
   "execution_count": 136,
   "metadata": {},
   "outputs": [
    {
     "name": "stdout",
     "output_type": "stream",
     "text": [
      "k2 1 5\n",
      "k4 112 512\n",
      "s2l4 16 40\n",
      "s2l8 64 176\n",
      "s4l8 120 344\n",
      "s6l8 176 512\n",
      "r-n16d6 234 654\n",
      "r-n18d8 369 1035\n",
      "r-n20d10 586 1658\n"
     ]
    }
   ],
   "source": [
    "entry_IS_list, entry_NS_list = [], []\n",
    "path_list = []\n",
    "link_list = []\n",
    "switch_list = []\n",
    "for name in topo_list:\n",
    "    topo_path = \"topo/topo-{}.json\".format(name)\n",
    "    topo = load_topo(topo_path)\n",
    "    path_lens = static(topo)\n",
    "    \n",
    "    entry_num = 0\n",
    "    for hop_num, path_num in path_lens.items():\n",
    "        entry_num += hop_num * path_num\n",
    "    print(name, sum(path_lens.values()), entry_num)\n",
    "    \n",
    "    with open(topo_path, \"r\") as f:\n",
    "        topo_json = json.load(f)\n",
    "    link_list.append(len(topo_json['links']))\n",
    "    switch_list.append(len(topo.get_switches()))\n",
    "    \n",
    "    path_list.append(sum(path_lens.values()))\n",
    "    entry_IS_list.append(entry_num)\n",
    "    entry_NS_list.append(cal_NS(name))"
   ]
  },
  {
   "cell_type": "code",
   "execution_count": 196,
   "metadata": {},
   "outputs": [
    {
     "data": {
      "text/plain": [
       "[0, 48, 0, 0, 56, 220, 82, 216, 587]"
      ]
     },
     "execution_count": 196,
     "metadata": {},
     "output_type": "execute_result"
    }
   ],
   "source": [
    "entry_NS_list"
   ]
  },
  {
   "cell_type": "code",
   "execution_count": 193,
   "metadata": {},
   "outputs": [
    {
     "data": {
      "image/png": "[encoded data removed]",
      "text/plain": [
       "<Figure size 432x216 with 2 Axes>"
      ]
     },
     "metadata": {
      "needs_background": "light"
     },
     "output_type": "display_data"
    }
   ],
   "source": [
    "plt.rc('font', family='Times New Roman', size=16)\n",
    "fig, axes = plt.subplots(nrows=1, ncols=2, figsize=(6, 3))\n",
    "kwargs = dict(zorder=100)\n",
    "axes[0].scatter(path_list, np.array(entry_IS_list) * m_IS / 1e3, label='IntSight', **kwargs)\n",
    "axes[0].scatter(path_list, np.array(entry_NS_list) * m_NS / 1e3, label='NetScope', **kwargs)\n",
    "axes[0].set_xticks([0, 250, 500])\n",
    "axes[0].set_ylabel(\"Memory (KB)\")\n",
    "axes[0].set_xlabel(\"# paths\")\n",
    "axes[0].legend(loc=\"upper left\", bbox_to_anchor=(0, 1.1), prop=dict(size=12)).set_zorder(10)\n",
    "axes[0].grid()\n",
    "\n",
    "axes[1].set_ylabel(\"INT Hdr Size (bit)\")\n",
    "axes[1].set_xlabel(\"# hops\")\n",
    "\n",
    "hops = np.linspace(1, 8, 2)\n",
    "axes[1].plot(hops, 16 * hops, label=\"INT-MD\")\n",
    "axes[1].plot(hops, np.ones_like(hops) * 8, label=\"PathID\")\n",
    "axes[1].set_xlim((2, 8))\n",
    "axes[1].set_xticks([2, 4, 6, 8])\n",
    "axes[1].legend(prop=dict(size=12))\n",
    "\n",
    "plt.tight_layout()"
   ]
  },
  {
   "cell_type": "code",
   "execution_count": 137,
   "metadata": {},
   "outputs": [
    {
     "data": {
      "image/png": "[encoded data removed]",
      "text/plain": [
       "<Figure size 432x288 with 1 Axes>"
      ]
     },
     "metadata": {
      "needs_background": "light"
     },
     "output_type": "display_data"
    }
   ],
   "source": [
    "plt.scatter(link_list, np.array(entry_IS_list) * m_IS / 1e3, label='IntSight')\n",
    "plt.scatter(link_list, np.array(entry_NS_list) * m_NS / 1e3, label='NetScope')\n",
    "plt.ylabel(\"Memory (KB)\")\n",
    "plt.xlabel(\"# links\")\n",
    "plt.grid()"
   ]
  },
  {
   "cell_type": "code",
   "execution_count": 148,
   "metadata": {},
   "outputs": [
    {
     "data": {
      "image/png": "[encoded data removed]",
      "text/plain": [
       "<Figure size 144x216 with 1 Axes>"
      ]
     },
     "metadata": {
      "needs_background": "light"
     },
     "output_type": "display_data"
    }
   ],
   "source": []
  },
  {
   "cell_type": "code",
   "execution_count": 139,
   "metadata": {},
   "outputs": [
    {
     "data": {
      "image/png": "[encoded data removed]",
      "text/plain": [
       "<Figure size 432x288 with 1 Axes>"
      ]
     },
     "metadata": {
      "needs_background": "light"
     },
     "output_type": "display_data"
    }
   ],
   "source": [
    "plt.scatter(switch_list, np.array(entry_IS_list) * m_IS / 1e3, label='IntSight')\n",
    "plt.scatter(switch_list, np.array(entry_NS_list) * m_NS / 1e3, label='NetScope')\n",
    "plt.ylabel(\"Memory (KB)\")\n",
    "plt.xlabel(\"# switches\")\n",
    "plt.grid()"
   ]
  },
  {
   "cell_type": "code",
   "execution_count": null,
   "metadata": {},
   "outputs": [],
   "source": []
  }
 ],
 "metadata": {
  "kernelspec": {
   "display_name": "Python 3.6.9 64-bit",
   "language": "python",
   "name": "python3"
  },
  "language_info": {
   "codemirror_mode": {
    "name": "ipython",
    "version": 3
   },
   "file_extension": ".py",
   "mimetype": "text/x-python",
   "name": "python",
   "nbconvert_exporter": "python",
   "pygments_lexer": "ipython3",
   "version": "3.6.9"
  },
  "orig_nbformat": 4,
  "vscode": {
   "interpreter": {
    "hash": "767d51c1340bd893661ea55ea3124f6de3c7a262a8b4abca0554b478b1e2ff90"
   }
  }
 },
 "nbformat": 4,
 "nbformat_minor": 2
}
