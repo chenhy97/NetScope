{
 "cells": [
  {
   "cell_type": "code",
   "execution_count": 1,
   "metadata": {},
   "outputs": [],
   "source": [
    "import numpy as np\n",
    "from utils import load_collector, load_dst_hosts\n",
    "import pandas as pd\n",
    "from matplotlib import pyplot as plt"
   ]
  },
  {
   "cell_type": "code",
   "execution_count": 2,
   "metadata": {},
   "outputs": [],
   "source": [
    "# send_ts = np.loadtxt('../host_log/send/send.txt')\n",
    "# receive_ts = np.loadtxt('../host_log/receive/receive.txt')"
   ]
  },
  {
   "cell_type": "code",
   "execution_count": 3,
   "metadata": {},
   "outputs": [],
   "source": [
    "def load_md():\n",
    "    md_df = load_dst_hosts(log_dir='../host_log')\n",
    "    content = \"\"\n",
    "    for i, row in md_df.iterrows():\n",
    "        content += f\"{len(row['path'])},{row['latency']}\\n\"\n",
    "    with open('data/INT-MD.csv', 'a') as f:\n",
    "        f.write(content)\n",
    "\n",
    "\n",
    "def load_mx():\n",
    "    mx_df = load_collector(log_dir='../host_log')\n",
    "    content = \"\"\n",
    "    for i, row in mx_df.iterrows():\n",
    "        content += f\"{len(row['path'])},{row['latency']}\\n\"\n",
    "    with open('data/INT-MX.csv', 'a') as f:\n",
    "        f.write(content)"
   ]
  },
  {
   "cell_type": "code",
   "execution_count": 4,
   "metadata": {},
   "outputs": [],
   "source": [
    "md_df = pd.read_csv('data/INT-MD.csv')\n",
    "mx_df = pd.read_csv('data/INT-MX.csv')"
   ]
  },
  {
   "cell_type": "code",
   "execution_count": 5,
   "metadata": {},
   "outputs": [
    {
     "data": {
      "text/plain": [
       "<matplotlib.collections.PathCollection at 0x7f73425a02e8>"
      ]
     },
     "execution_count": 5,
     "metadata": {},
     "output_type": "execute_result"
    },
    {
     "data": {
      "image/png": "[encoded data removed]",
      "text/plain": [
       "<Figure size 432x288 with 1 Axes>"
      ]
     },
     "metadata": {
      "needs_background": "light"
     },
     "output_type": "display_data"
    }
   ],
   "source": [
    "plt.scatter(md_df['len'], md_df['latency'])\n",
    "plt.scatter(mx_df['len'], mx_df['latency'])"
   ]
  },
  {
   "cell_type": "code",
   "execution_count": 18,
   "metadata": {},
   "outputs": [],
   "source": [
    "def cal_err(df):\n",
    "    x, y, yerr = [], [], []\n",
    "    for l in set(df['len']):\n",
    "        x.append(l)\n",
    "        ys = np.array(df[df['len']==l]['latency'])/1000\n",
    "        y.append(np.mean(ys))\n",
    "        yerr.append(np.var(ys))\n",
    "    x = np.array(x) - 1\n",
    "    return {'x': x, 'y': y, 'yerr': yerr}"
   ]
  },
  {
   "cell_type": "code",
   "execution_count": 19,
   "metadata": {},
   "outputs": [
    {
     "data": {
      "text/plain": [
       "Text(0.5, 0, 'hops count')"
      ]
     },
     "execution_count": 19,
     "metadata": {},
     "output_type": "execute_result"
    },
    {
     "data": {
      "image/png": "[encoded data removed]",
      "text/plain": [
       "<Figure size 432x288 with 1 Axes>"
      ]
     },
     "metadata": {
      "needs_background": "light"
     },
     "output_type": "display_data"
    }
   ],
   "source": [
    "for data, name in [[cal_err(md_df), 'MD'], [cal_err(mx_df), 'MX']]:\n",
    "    eb = plt.errorbar(**data, fmt='o', elinewidth=2, capsize=4, label=f'INT-{name}')\n",
    "    plt.plot(data['x'], data['y'], color=eb[0].get_c())\n",
    "plt.legend()\n",
    "plt.ylabel('latency (s)')\n",
    "plt.xlabel('hops count')"
   ]
  },
  {
   "cell_type": "code",
   "execution_count": 13,
   "metadata": {},
   "outputs": [
    {
     "data": {
      "text/plain": [
       "'#1f77b4'"
      ]
     },
     "execution_count": 13,
     "metadata": {},
     "output_type": "execute_result"
    }
   ],
   "source": []
  },
  {
   "cell_type": "code",
   "execution_count": 20,
   "metadata": {},
   "outputs": [
    {
     "data": {
      "text/plain": [
       "[928.9655172413793,\n",
       " 1296.6206896551723,\n",
       " 2138.4827586206898,\n",
       " 2500.8275862068967,\n",
       " 4171.137931034483,\n",
       " 3729.8275862068967,\n",
       " 4881.517241379311,\n",
       " 5531.421052631579,\n",
       " 7026.0526315789475]"
      ]
     },
     "execution_count": 20,
     "metadata": {},
     "output_type": "execute_result"
    }
   ],
   "source": [
    "y"
   ]
  },
  {
   "cell_type": "code",
   "execution_count": 21,
   "metadata": {},
   "outputs": [
    {
     "data": {
      "text/plain": [
       "[1042122.7919143874,\n",
       " 518934.44233055896,\n",
       " 3985394.7324613547,\n",
       " 2761889.866825208,\n",
       " 5532914.73959572,\n",
       " 3486089.4530321048,\n",
       " 3764467.3531510103,\n",
       " 6372558.349030471,\n",
       " 7627145.102493075]"
      ]
     },
     "execution_count": 21,
     "metadata": {},
     "output_type": "execute_result"
    }
   ],
   "source": [
    "yerr"
   ]
  },
  {
   "cell_type": "code",
   "execution_count": null,
   "metadata": {},
   "outputs": [],
   "source": []
  }
 ],
 "metadata": {
  "interpreter": {
   "hash": "31f2aee4e71d21fbe5cf8b01ff0e069b9275f58929596ceb00d14d90e3e16cd6"
  },
  "kernelspec": {
   "display_name": "Python 3.6.9 64-bit",
   "name": "python3"
  },
  "language_info": {
   "codemirror_mode": {
    "name": "ipython",
    "version": 3
   },
   "file_extension": ".py",
   "mimetype": "text/x-python",
   "name": "python",
   "nbconvert_exporter": "python",
   "pygments_lexer": "ipython3",
   "version": "3.6.9"
  },
  "orig_nbformat": 4
 },
 "nbformat": 4,
 "nbformat_minor": 2
}
