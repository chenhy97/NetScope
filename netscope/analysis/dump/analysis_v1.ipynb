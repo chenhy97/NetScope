{
 "cells": [
  {
   "cell_type": "code",
   "execution_count": 101,
   "metadata": {},
   "outputs": [],
   "source": [
    "import json\n",
    "import pandas as pd\n",
    "import os\n",
    "import numpy as np\n",
    "\n",
    "from analysis.ADR import ADR\n",
    "from analysis.FP import createFPTree, mineFPTree\n",
    "from analysis.algrithm import spectrum, diff\n",
    "from analysis.utils import load_collector, load_dst_hosts"
   ]
  },
  {
   "cell_type": "markdown",
   "metadata": {},
   "source": [
    "# load data"
   ]
  },
  {
   "cell_type": "code",
   "execution_count": 102,
   "metadata": {},
   "outputs": [],
   "source": [
    "# df1 = load_dst_hosts()\n",
    "df2 = load_collector()\n",
    "df = df2"
   ]
  },
  {
   "cell_type": "code",
   "execution_count": 103,
   "metadata": {},
   "outputs": [
    {
     "data": {
      "text/html": [
       "<div>\n",
       "<style scoped>\n",
       "    .dataframe tbody tr th:only-of-type {\n",
       "        vertical-align: middle;\n",
       "    }\n",
       "\n",
       "    .dataframe tbody tr th {\n",
       "        vertical-align: top;\n",
       "    }\n",
       "\n",
       "    .dataframe thead th {\n",
       "        text-align: right;\n",
       "    }\n",
       "</style>\n",
       "<table border=\"1\" class=\"dataframe\">\n",
       "  <thead>\n",
       "    <tr style=\"text-align: right;\">\n",
       "      <th></th>\n",
       "      <th>timestamp</th>\n",
       "      <th>path</th>\n",
       "      <th>path_str</th>\n",
       "      <th>latency</th>\n",
       "      <th>detail</th>\n",
       "    </tr>\n",
       "  </thead>\n",
       "  <tbody>\n",
       "    <tr>\n",
       "      <th>0</th>\n",
       "      <td>228557729083671</td>\n",
       "      <td>[s8, s5, s10]</td>\n",
       "      <td>s8,s5,s10</td>\n",
       "      <td>5349</td>\n",
       "      <td>s8-eth4,s5-eth7,s10-eth1</td>\n",
       "    </tr>\n",
       "    <tr>\n",
       "      <th>1</th>\n",
       "      <td>228557729183220</td>\n",
       "      <td>[s3, s7]</td>\n",
       "      <td>s3,s7</td>\n",
       "      <td>706</td>\n",
       "      <td>s3-eth5,s7-eth1</td>\n",
       "    </tr>\n",
       "    <tr>\n",
       "      <th>2</th>\n",
       "      <td>228557729220238</td>\n",
       "      <td>[s1, s10, s6]</td>\n",
       "      <td>s1,s10,s6</td>\n",
       "      <td>3854</td>\n",
       "      <td>s1-eth7,s10-eth6,s6-eth1</td>\n",
       "    </tr>\n",
       "    <tr>\n",
       "      <th>3</th>\n",
       "      <td>228557729227249</td>\n",
       "      <td>[s9, s1]</td>\n",
       "      <td>s9,s1</td>\n",
       "      <td>525</td>\n",
       "      <td>s9-eth2,s1-eth1</td>\n",
       "    </tr>\n",
       "    <tr>\n",
       "      <th>4</th>\n",
       "      <td>228557729239231</td>\n",
       "      <td>[s5, s3]</td>\n",
       "      <td>s5,s3</td>\n",
       "      <td>260</td>\n",
       "      <td>s5-eth3,s3-eth1</td>\n",
       "    </tr>\n",
       "  </tbody>\n",
       "</table>\n",
       "</div>"
      ],
      "text/plain": [
       "         timestamp           path   path_str  latency  \\\n",
       "0  228557729083671  [s8, s5, s10]  s8,s5,s10     5349   \n",
       "1  228557729183220       [s3, s7]      s3,s7      706   \n",
       "2  228557729220238  [s1, s10, s6]  s1,s10,s6     3854   \n",
       "3  228557729227249       [s9, s1]      s9,s1      525   \n",
       "4  228557729239231       [s5, s3]      s5,s3      260   \n",
       "\n",
       "                     detail  \n",
       "0  s8-eth4,s5-eth7,s10-eth1  \n",
       "1           s3-eth5,s7-eth1  \n",
       "2  s1-eth7,s10-eth6,s6-eth1  \n",
       "3           s9-eth2,s1-eth1  \n",
       "4           s5-eth3,s3-eth1  "
      ]
     },
     "execution_count": 103,
     "metadata": {},
     "output_type": "execute_result"
    }
   ],
   "source": [
    "df.head()"
   ]
  },
  {
   "cell_type": "code",
   "execution_count": 104,
   "metadata": {},
   "outputs": [
    {
     "name": "stdout",
     "output_type": "stream",
     "text": [
      "['h9-eth0', 'h6-eth0', 'h10-eth0', 'h8-eth0', 'h4-eth0', 'h5-eth0', 'h3-eth0', 'h1-eth0', 'h7-eth0', 'h2-eth0']\n"
     ]
    }
   ],
   "source": [
    "log_dir = './host_log'\n",
    "log_names = [os.path.splitext(l)[0] for l in os.listdir(log_dir) if l.endswith('.log') and \"interface\" not in l]\n",
    "log_names.remove('h0-eth0')\n",
    "print(log_names)"
   ]
  },
  {
   "cell_type": "code",
   "execution_count": 105,
   "metadata": {},
   "outputs": [],
   "source": [
    "# load data\n",
    "log_data = {}\n",
    "for ln in log_names:\n",
    "    with open(os.path.join(log_dir, ln+'.log'), 'r') as f:\n",
    "        content = f.read()\n",
    "        log_data[ln] = json.loads('['+content.rstrip(',\\n')+']')\n",
    "    "
   ]
  },
  {
   "cell_type": "code",
   "execution_count": 106,
   "metadata": {},
   "outputs": [],
   "source": [
    "trace_data = []\n",
    "for ln in log_names:\n",
    "    for trace in log_data[ln]:\n",
    "        trace_latency = trace[-1]['ingress_tstamp'] + trace[-1]['hop_latency'] - trace[0]['ingress_tstamp']\n",
    "        if trace_latency < 0:\n",
    "            print(trace)\n",
    "        trace_data.append({\n",
    "            'dst': ln,\n",
    "            'timestamp': trace[0]['ingress_tstamp'],\n",
    "            'path': frozenset([\"s\"+str(hop['switch_id']) for hop in trace]),\n",
    "            # 'path': ','.join([\"s\"+str(hop['switch_id']) for hop in trace]),\n",
    "            'latency': trace_latency,\n",
    "            'detail': ','.join([\"s{}-eth{}\".format(hop['switch_id'], hop['egress_port']) for hop in trace]),\n",
    "        })"
   ]
  },
  {
   "cell_type": "code",
   "execution_count": 107,
   "metadata": {},
   "outputs": [],
   "source": [
    "# trace_data = []\n",
    "# for ln in log_names:\n",
    "#     for trace in log_data[ln]:\n",
    "#         for i in range(len(trace)-1):\n",
    "#             src, dst = trace[i:i+2]\n",
    "#             hop_time = dst['ingress_tstamp'] - src['ingress_tstamp'] + dst['hop_latency']\n",
    "#             trace_data.append({\n",
    "#                 'latency': hop_time,\n",
    "#                 'path': frozenset([\"s\"+str(hop['switch_id']) for hop in trace[i:i+2]]),\n",
    "#             'timestamp': trace[0]['ingress_tstamp'],\n",
    "#             })"
   ]
  },
  {
   "cell_type": "code",
   "execution_count": 108,
   "metadata": {},
   "outputs": [
    {
     "name": "stdout",
     "output_type": "stream",
     "text": [
      "1288\n"
     ]
    },
    {
     "data": {
      "text/html": [
       "<div>\n",
       "<style scoped>\n",
       "    .dataframe tbody tr th:only-of-type {\n",
       "        vertical-align: middle;\n",
       "    }\n",
       "\n",
       "    .dataframe tbody tr th {\n",
       "        vertical-align: top;\n",
       "    }\n",
       "\n",
       "    .dataframe thead th {\n",
       "        text-align: right;\n",
       "    }\n",
       "</style>\n",
       "<table border=\"1\" class=\"dataframe\">\n",
       "  <thead>\n",
       "    <tr style=\"text-align: right;\">\n",
       "      <th></th>\n",
       "      <th>dst</th>\n",
       "      <th>timestamp</th>\n",
       "      <th>path</th>\n",
       "      <th>latency</th>\n",
       "      <th>detail</th>\n",
       "    </tr>\n",
       "  </thead>\n",
       "  <tbody>\n",
       "    <tr>\n",
       "      <th>0</th>\n",
       "      <td>h10-eth0</td>\n",
       "      <td>228557729083671</td>\n",
       "      <td>(s8, s10, s5)</td>\n",
       "      <td>5349</td>\n",
       "      <td>s8-eth4,s5-eth7,s10-eth1</td>\n",
       "    </tr>\n",
       "    <tr>\n",
       "      <th>1</th>\n",
       "      <td>h7-eth0</td>\n",
       "      <td>228557729183220</td>\n",
       "      <td>(s3, s7)</td>\n",
       "      <td>706</td>\n",
       "      <td>s3-eth5,s7-eth1</td>\n",
       "    </tr>\n",
       "    <tr>\n",
       "      <th>2</th>\n",
       "      <td>h6-eth0</td>\n",
       "      <td>228557729220238</td>\n",
       "      <td>(s6, s10, s1)</td>\n",
       "      <td>3854</td>\n",
       "      <td>s1-eth7,s10-eth6,s6-eth1</td>\n",
       "    </tr>\n",
       "    <tr>\n",
       "      <th>3</th>\n",
       "      <td>h1-eth0</td>\n",
       "      <td>228557729227249</td>\n",
       "      <td>(s9, s1)</td>\n",
       "      <td>525</td>\n",
       "      <td>s9-eth2,s1-eth1</td>\n",
       "    </tr>\n",
       "    <tr>\n",
       "      <th>4</th>\n",
       "      <td>h3-eth0</td>\n",
       "      <td>228557729239231</td>\n",
       "      <td>(s3, s5)</td>\n",
       "      <td>260</td>\n",
       "      <td>s5-eth3,s3-eth1</td>\n",
       "    </tr>\n",
       "  </tbody>\n",
       "</table>\n",
       "</div>"
      ],
      "text/plain": [
       "        dst        timestamp           path  latency                    detail\n",
       "0  h10-eth0  228557729083671  (s8, s10, s5)     5349  s8-eth4,s5-eth7,s10-eth1\n",
       "1   h7-eth0  228557729183220       (s3, s7)      706           s3-eth5,s7-eth1\n",
       "2   h6-eth0  228557729220238  (s6, s10, s1)     3854  s1-eth7,s10-eth6,s6-eth1\n",
       "3   h1-eth0  228557729227249       (s9, s1)      525           s9-eth2,s1-eth1\n",
       "4   h3-eth0  228557729239231       (s3, s5)      260           s5-eth3,s3-eth1"
      ]
     },
     "execution_count": 108,
     "metadata": {},
     "output_type": "execute_result"
    }
   ],
   "source": [
    "df = pd.DataFrame(trace_data).sort_values(['timestamp'], ignore_index=True)\n",
    "print(len(df))\n",
    "df.head()"
   ]
  },
  {
   "cell_type": "code",
   "execution_count": 109,
   "metadata": {},
   "outputs": [],
   "source": [
    "def FIM(fn='test'):\n",
    "    content = \"\"\n",
    "    for data in trace_data:\n",
    "        content += ' '.join(data['path']).replace(\"s\", \"\") + \"\\n\"\n",
    "    with open(f'middle/{fn}.txt', 'w') as f:\n",
    "        f.write(content)\n",
    "def FSP(df, fn=\"SequentialPattern\"):\n",
    "    content = \"\"\n",
    "    for path in df['path']:\n",
    "        content += ' -1 '.join(path).replace(\"s\", \"\") + \" -1 -2\\n\"\n",
    "    with open(f'middle/{fn}.txt', 'w') as f:\n",
    "        f.write(content)\n",
    "# FSP(df)"
   ]
  },
  {
   "cell_type": "code",
   "execution_count": 119,
   "metadata": {},
   "outputs": [],
   "source": [
    "df = load_collector()\n",
    "df['path'] = [frozenset(p) for p in df['path'].tolist()]"
   ]
  },
  {
   "cell_type": "markdown",
   "metadata": {},
   "source": [
    "# Analysis\n",
    "## Abnormal Detection"
   ]
  },
  {
   "cell_type": "code",
   "execution_count": 120,
   "metadata": {},
   "outputs": [
    {
     "name": "stdout",
     "output_type": "stream",
     "text": [
      "error bar: 3 sigma\n"
     ]
    }
   ],
   "source": [
    "# adr = ADR(volumn=100)\n",
    "adr = ADR(volumn=len(df)/10)\n",
    "for i, row in df.iterrows():\n",
    "    lier = adr.feed(row['latency'])\n",
    "    df.loc[i, 'lier'] = lier"
   ]
  },
  {
   "cell_type": "code",
   "execution_count": 121,
   "metadata": {},
   "outputs": [
    {
     "data": {
      "text/html": [
       "<div>\n",
       "<style scoped>\n",
       "    .dataframe tbody tr th:only-of-type {\n",
       "        vertical-align: middle;\n",
       "    }\n",
       "\n",
       "    .dataframe tbody tr th {\n",
       "        vertical-align: top;\n",
       "    }\n",
       "\n",
       "    .dataframe thead th {\n",
       "        text-align: right;\n",
       "    }\n",
       "</style>\n",
       "<table border=\"1\" class=\"dataframe\">\n",
       "  <thead>\n",
       "    <tr style=\"text-align: right;\">\n",
       "      <th></th>\n",
       "      <th>timestamp</th>\n",
       "      <th>path</th>\n",
       "      <th>path_str</th>\n",
       "      <th>latency</th>\n",
       "      <th>detail</th>\n",
       "      <th>lier</th>\n",
       "    </tr>\n",
       "  </thead>\n",
       "  <tbody>\n",
       "    <tr>\n",
       "      <th>153</th>\n",
       "      <td>228557744845058</td>\n",
       "      <td>(s6, s10, s1)</td>\n",
       "      <td>s1,s10,s6</td>\n",
       "      <td>6839</td>\n",
       "      <td>s1-eth7,s10-eth6,s6-eth1</td>\n",
       "      <td>out</td>\n",
       "    </tr>\n",
       "    <tr>\n",
       "      <th>174</th>\n",
       "      <td>228557746935190</td>\n",
       "      <td>(s3, s7)</td>\n",
       "      <td>s3,s7</td>\n",
       "      <td>9274</td>\n",
       "      <td>s3-eth5,s7-eth1</td>\n",
       "      <td>out</td>\n",
       "    </tr>\n",
       "    <tr>\n",
       "      <th>271</th>\n",
       "      <td>228557757313281</td>\n",
       "      <td>(s6, s10, s1)</td>\n",
       "      <td>s1,s10,s6</td>\n",
       "      <td>5238</td>\n",
       "      <td>s1-eth7,s10-eth6,s6-eth1</td>\n",
       "      <td>out</td>\n",
       "    </tr>\n",
       "    <tr>\n",
       "      <th>295</th>\n",
       "      <td>228557759533138</td>\n",
       "      <td>(s3, s6)</td>\n",
       "      <td>s6,s3</td>\n",
       "      <td>304096</td>\n",
       "      <td>s6-eth2,s3-eth1</td>\n",
       "      <td>out</td>\n",
       "    </tr>\n",
       "    <tr>\n",
       "      <th>305</th>\n",
       "      <td>228557760584968</td>\n",
       "      <td>(s3, s6)</td>\n",
       "      <td>s6,s3</td>\n",
       "      <td>297861</td>\n",
       "      <td>s6-eth2,s3-eth1</td>\n",
       "      <td>out</td>\n",
       "    </tr>\n",
       "  </tbody>\n",
       "</table>\n",
       "</div>"
      ],
      "text/plain": [
       "           timestamp           path   path_str  latency  \\\n",
       "153  228557744845058  (s6, s10, s1)  s1,s10,s6     6839   \n",
       "174  228557746935190       (s3, s7)      s3,s7     9274   \n",
       "271  228557757313281  (s6, s10, s1)  s1,s10,s6     5238   \n",
       "295  228557759533138       (s3, s6)      s6,s3   304096   \n",
       "305  228557760584968       (s3, s6)      s6,s3   297861   \n",
       "\n",
       "                       detail lier  \n",
       "153  s1-eth7,s10-eth6,s6-eth1  out  \n",
       "174           s3-eth5,s7-eth1  out  \n",
       "271  s1-eth7,s10-eth6,s6-eth1  out  \n",
       "295           s6-eth2,s3-eth1  out  \n",
       "305           s6-eth2,s3-eth1  out  "
      ]
     },
     "execution_count": 121,
     "metadata": {},
     "output_type": "execute_result"
    }
   ],
   "source": [
    "df[df['lier']=='out'].head()"
   ]
  },
  {
   "cell_type": "code",
   "execution_count": 122,
   "metadata": {},
   "outputs": [
    {
     "name": "stderr",
     "output_type": "stream",
     "text": [
      "/home/user/.local/lib/python3.6/site-packages/ipykernel_launcher.py:6: UserWarning: Boolean Series key will be reindexed to match DataFrame index.\n",
      "  \n"
     ]
    },
    {
     "data": {
      "text/html": [
       "<div>\n",
       "<style scoped>\n",
       "    .dataframe tbody tr th:only-of-type {\n",
       "        vertical-align: middle;\n",
       "    }\n",
       "\n",
       "    .dataframe tbody tr th {\n",
       "        vertical-align: top;\n",
       "    }\n",
       "\n",
       "    .dataframe thead th {\n",
       "        text-align: right;\n",
       "    }\n",
       "</style>\n",
       "<table border=\"1\" class=\"dataframe\">\n",
       "  <thead>\n",
       "    <tr style=\"text-align: right;\">\n",
       "      <th></th>\n",
       "      <th>hop</th>\n",
       "      <th>count</th>\n",
       "    </tr>\n",
       "  </thead>\n",
       "  <tbody>\n",
       "    <tr>\n",
       "      <th>1</th>\n",
       "      <td>(s2, s10)</td>\n",
       "      <td>29</td>\n",
       "    </tr>\n",
       "    <tr>\n",
       "      <th>0</th>\n",
       "      <td>(s3, s6)</td>\n",
       "      <td>19</td>\n",
       "    </tr>\n",
       "    <tr>\n",
       "      <th>2</th>\n",
       "      <td>(s6, s10, s1)</td>\n",
       "      <td>2</td>\n",
       "    </tr>\n",
       "    <tr>\n",
       "      <th>3</th>\n",
       "      <td>(s3, s7)</td>\n",
       "      <td>1</td>\n",
       "    </tr>\n",
       "  </tbody>\n",
       "</table>\n",
       "</div>"
      ],
      "text/plain": [
       "             hop  count\n",
       "1      (s2, s10)     29\n",
       "0       (s3, s6)     19\n",
       "2  (s6, s10, s1)      2\n",
       "3       (s3, s7)      1"
      ]
     },
     "execution_count": 122,
     "metadata": {},
     "output_type": "execute_result"
    }
   ],
   "source": [
    "hop_count = []\n",
    "out_df = df[df['lier']=='out']\n",
    "for hops in set(out_df['path'].to_list()):\n",
    "    hop_count.append({\n",
    "        'hop': hops,\n",
    "        'count': len(out_df[df['path']==hops])\n",
    "    })\n",
    "hop_df = pd.DataFrame(hop_count).sort_values(['count'], ascending=False)\n",
    "hop_df"
   ]
  },
  {
   "cell_type": "code",
   "execution_count": 123,
   "metadata": {},
   "outputs": [],
   "source": [
    "# df[(df['path']>={'s16'}) & (df['lier']=='out')]"
   ]
  },
  {
   "cell_type": "markdown",
   "metadata": {},
   "source": [
    "## 谱分析"
   ]
  },
  {
   "cell_type": "code",
   "execution_count": null,
   "metadata": {},
   "outputs": [
    {
     "name": "stdout",
     "output_type": "stream",
     "text": [
      "['s9', 's8', 's3', 's2', 's1', 's0', 's7', 's6', 's5', 's4', 's10']\n"
     ]
    }
   ],
   "source": [
    "with open(\"topology.db\", \"r\") as f:\n",
    "    topo = json.load(f)\n",
    "switchs = [node for node in topo.keys() if node.startswith('s')]\n",
    "print(switchs)"
   ]
  },
  {
   "cell_type": "code",
   "execution_count": null,
   "metadata": {},
   "outputs": [
    {
     "name": "stdout",
     "output_type": "stream",
     "text": [
      "\n",
      " ochiai Spectrum Result:\n",
      "s2                                                : 0.25272871\n",
      "s0                                                : nan\n",
      "s10                                               : 0.21521455\n",
      "s6                                                : 0.20915479\n",
      "s3                                                : 0.14220924\n",
      "s1                                                : 0.06087187\n",
      "s9                                                : 0.01739196\n",
      "s8                                                : 0.01229797\n",
      "s7                                                : 0.00869598\n",
      "s5                                                : 0.00709006\n",
      "s4                                                : 0.00000000\n"
     ]
    },
    {
     "name": "stderr",
     "output_type": "stream",
     "text": [
      "/home/user/LDFI-mininet/pktrace-mininet/analysis/algrithm.py:65: RuntimeWarning: invalid value encountered in double_scalars\n",
      "  result[switch] = cef / np.sqrt((cep + cef) * (cef + cnf))\n"
     ]
    }
   ],
   "source": [
    "# spectrum(df, switchs, 'dstar2', topN=10);\n",
    "spectrum(df, switchs, 'ochiai', topN=10);"
   ]
  },
  {
   "cell_type": "markdown",
   "metadata": {},
   "source": [
    "## Frequent Item-set Mining (FIM)"
   ]
  },
  {
   "cell_type": "code",
   "execution_count": 129,
   "metadata": {},
   "outputs": [],
   "source": [
    "C = {}\n",
    "for _, line in (df[df['lier']=='out'].iterrows()):\n",
    "    point = line.path\n",
    "    C[point] = 1 + C.get(point, 0)\n",
    "\n",
    "fptree, headPointTable = createFPTree(C)\n",
    "frequentPatterns = {}\n",
    "prefix = set([])\n",
    "mineFPTree(headPointTable, prefix, frequentPatterns)"
   ]
  },
  {
   "cell_type": "code",
   "execution_count": 130,
   "metadata": {},
   "outputs": [
    {
     "name": "stdout",
     "output_type": "stream",
     "text": [
      "51 1110\n"
     ]
    },
    {
     "data": {
      "text/html": [
       "<div>\n",
       "<style scoped>\n",
       "    .dataframe tbody tr th:only-of-type {\n",
       "        vertical-align: middle;\n",
       "    }\n",
       "\n",
       "    .dataframe tbody tr th {\n",
       "        vertical-align: top;\n",
       "    }\n",
       "\n",
       "    .dataframe thead th {\n",
       "        text-align: right;\n",
       "    }\n",
       "</style>\n",
       "<table border=\"1\" class=\"dataframe\">\n",
       "  <thead>\n",
       "    <tr style=\"text-align: right;\">\n",
       "      <th></th>\n",
       "      <th>pattern</th>\n",
       "      <th>support</th>\n",
       "      <th>score</th>\n",
       "    </tr>\n",
       "  </thead>\n",
       "  <tbody>\n",
       "    <tr>\n",
       "      <th>0</th>\n",
       "      <td>(s2, s10)</td>\n",
       "      <td>0.568627</td>\n",
       "      <td>11.989723</td>\n",
       "    </tr>\n",
       "    <tr>\n",
       "      <th>1</th>\n",
       "      <td>(s3, s6)</td>\n",
       "      <td>0.372549</td>\n",
       "      <td>5.400543</td>\n",
       "    </tr>\n",
       "    <tr>\n",
       "      <th>2</th>\n",
       "      <td>(s2)</td>\n",
       "      <td>0.568627</td>\n",
       "      <td>5.278409</td>\n",
       "    </tr>\n",
       "    <tr>\n",
       "      <th>3</th>\n",
       "      <td>(s6)</td>\n",
       "      <td>0.411765</td>\n",
       "      <td>2.803017</td>\n",
       "    </tr>\n",
       "    <tr>\n",
       "      <th>4</th>\n",
       "      <td>(s10)</td>\n",
       "      <td>0.607843</td>\n",
       "      <td>2.328341</td>\n",
       "    </tr>\n",
       "    <tr>\n",
       "      <th>5</th>\n",
       "      <td>(s3)</td>\n",
       "      <td>0.392157</td>\n",
       "      <td>1.513433</td>\n",
       "    </tr>\n",
       "    <tr>\n",
       "      <th>6</th>\n",
       "      <td>(s6, s1)</td>\n",
       "      <td>0.039216</td>\n",
       "      <td>0.367699</td>\n",
       "    </tr>\n",
       "    <tr>\n",
       "      <th>7</th>\n",
       "      <td>(s6, s10, s1)</td>\n",
       "      <td>0.039216</td>\n",
       "      <td>0.367699</td>\n",
       "    </tr>\n",
       "    <tr>\n",
       "      <th>8</th>\n",
       "      <td>(s10, s1)</td>\n",
       "      <td>0.039216</td>\n",
       "      <td>0.367699</td>\n",
       "    </tr>\n",
       "    <tr>\n",
       "      <th>9</th>\n",
       "      <td>(s6, s10)</td>\n",
       "      <td>0.039216</td>\n",
       "      <td>0.367699</td>\n",
       "    </tr>\n",
       "  </tbody>\n",
       "</table>\n",
       "</div>"
      ],
      "text/plain": [
       "         pattern   support      score\n",
       "0      (s2, s10)  0.568627  11.989723\n",
       "1       (s3, s6)  0.372549   5.400543\n",
       "2           (s2)  0.568627   5.278409\n",
       "3           (s6)  0.411765   2.803017\n",
       "4          (s10)  0.607843   2.328341\n",
       "5           (s3)  0.392157   1.513433\n",
       "6       (s6, s1)  0.039216   0.367699\n",
       "7  (s6, s10, s1)  0.039216   0.367699\n",
       "8      (s10, s1)  0.039216   0.367699\n",
       "9      (s6, s10)  0.039216   0.367699"
      ]
     },
     "execution_count": 130,
     "metadata": {},
     "output_type": "execute_result"
    }
   ],
   "source": [
    "R_df = df[df['lier']=='out']\n",
    "S_df = df[df['lier']=='in']\n",
    "print(len(R_df), len(S_df))\n",
    "ans_df = diff(frequentPatterns, R_df, S_df, th_supp=0.0, th_rr=0.0, fre_type='item')\n",
    "ans_df[:10]"
   ]
  },
  {
   "cell_type": "code",
   "execution_count": 131,
   "metadata": {},
   "outputs": [
    {
     "data": {
      "text/plain": [
       "{frozenset({'s7'}): 1,\n",
       " frozenset({'s3', 's7'}): 1,\n",
       " frozenset({'s1'}): 2,\n",
       " frozenset({'s1', 's6'}): 2,\n",
       " frozenset({'s1', 's10', 's6'}): 2,\n",
       " frozenset({'s1', 's10'}): 2,\n",
       " frozenset({'s3'}): 20,\n",
       " frozenset({'s3', 's6'}): 19,\n",
       " frozenset({'s6'}): 21,\n",
       " frozenset({'s10', 's6'}): 2,\n",
       " frozenset({'s2'}): 29,\n",
       " frozenset({'s10', 's2'}): 29,\n",
       " frozenset({'s10'}): 31}"
      ]
     },
     "execution_count": 131,
     "metadata": {},
     "output_type": "execute_result"
    }
   ],
   "source": [
    "frequentPatterns\n",
    "# print(len(R_df[frozenset(['s2']) <= R_df['path']]))\n",
    "# print(len(S_df[frozenset(['s2']) <= S_df['path']]))"
   ]
  },
  {
   "cell_type": "markdown",
   "metadata": {},
   "source": [
    "# 流量图"
   ]
  },
  {
   "cell_type": "code",
   "execution_count": null,
   "metadata": {},
   "outputs": [
    {
     "data": {
      "text/html": [
       "<div>\n",
       "<style scoped>\n",
       "    .dataframe tbody tr th:only-of-type {\n",
       "        vertical-align: middle;\n",
       "    }\n",
       "\n",
       "    .dataframe tbody tr th {\n",
       "        vertical-align: top;\n",
       "    }\n",
       "\n",
       "    .dataframe thead th {\n",
       "        text-align: right;\n",
       "    }\n",
       "</style>\n",
       "<table border=\"1\" class=\"dataframe\">\n",
       "  <thead>\n",
       "    <tr style=\"text-align: right;\">\n",
       "      <th></th>\n",
       "      <th>dst</th>\n",
       "      <th>timestamp</th>\n",
       "      <th>path</th>\n",
       "      <th>latency</th>\n",
       "      <th>detail</th>\n",
       "      <th>lier</th>\n",
       "    </tr>\n",
       "  </thead>\n",
       "  <tbody>\n",
       "    <tr>\n",
       "      <th>0</th>\n",
       "      <td>h10-eth0</td>\n",
       "      <td>228557729083671</td>\n",
       "      <td>(s8, s10, s5)</td>\n",
       "      <td>5349</td>\n",
       "      <td>s8-eth4,s5-eth7,s10-eth1</td>\n",
       "      <td>unknow</td>\n",
       "    </tr>\n",
       "    <tr>\n",
       "      <th>1</th>\n",
       "      <td>h7-eth0</td>\n",
       "      <td>228557729183220</td>\n",
       "      <td>(s3, s7)</td>\n",
       "      <td>706</td>\n",
       "      <td>s3-eth5,s7-eth1</td>\n",
       "      <td>unknow</td>\n",
       "    </tr>\n",
       "    <tr>\n",
       "      <th>2</th>\n",
       "      <td>h6-eth0</td>\n",
       "      <td>228557729220238</td>\n",
       "      <td>(s6, s10, s1)</td>\n",
       "      <td>3854</td>\n",
       "      <td>s1-eth7,s10-eth6,s6-eth1</td>\n",
       "      <td>unknow</td>\n",
       "    </tr>\n",
       "    <tr>\n",
       "      <th>3</th>\n",
       "      <td>h1-eth0</td>\n",
       "      <td>228557729227249</td>\n",
       "      <td>(s9, s1)</td>\n",
       "      <td>525</td>\n",
       "      <td>s9-eth2,s1-eth1</td>\n",
       "      <td>unknow</td>\n",
       "    </tr>\n",
       "    <tr>\n",
       "      <th>4</th>\n",
       "      <td>h3-eth0</td>\n",
       "      <td>228557729239231</td>\n",
       "      <td>(s3, s5)</td>\n",
       "      <td>260</td>\n",
       "      <td>s5-eth3,s3-eth1</td>\n",
       "      <td>unknow</td>\n",
       "    </tr>\n",
       "  </tbody>\n",
       "</table>\n",
       "</div>"
      ],
      "text/plain": [
       "        dst        timestamp           path  latency  \\\n",
       "0  h10-eth0  228557729083671  (s8, s10, s5)     5349   \n",
       "1   h7-eth0  228557729183220       (s3, s7)      706   \n",
       "2   h6-eth0  228557729220238  (s6, s10, s1)     3854   \n",
       "3   h1-eth0  228557729227249       (s9, s1)      525   \n",
       "4   h3-eth0  228557729239231       (s3, s5)      260   \n",
       "\n",
       "                     detail    lier  \n",
       "0  s8-eth4,s5-eth7,s10-eth1  unknow  \n",
       "1           s3-eth5,s7-eth1  unknow  \n",
       "2  s1-eth7,s10-eth6,s6-eth1  unknow  \n",
       "3           s9-eth2,s1-eth1  unknow  \n",
       "4           s5-eth3,s3-eth1  unknow  "
      ]
     },
     "execution_count": 92,
     "metadata": {},
     "output_type": "execute_result"
    }
   ],
   "source": [
    "df.head()"
   ]
  },
  {
   "cell_type": "code",
   "execution_count": null,
   "metadata": {},
   "outputs": [],
   "source": [
    "from matplotlib import pyplot as plt"
   ]
  },
  {
   "cell_type": "code",
   "execution_count": null,
   "metadata": {},
   "outputs": [
    {
     "data": {
      "image/png": "[encoded data removed]",
      "text/plain": [
       "<Figure size 432x288 with 1 Axes>"
      ]
     },
     "metadata": {
      "needs_background": "light"
     },
     "output_type": "display_data"
    }
   ],
   "source": [
    "x = np.array(df['timestamp'])/1e6\n",
    "x = x - x[0]\n",
    "plt.plot(x, df['latency']/1e3)\n",
    "plt.xlabel(\"time (s)\")\n",
    "plt.ylabel(\"latency (ms)\");\n",
    "# plt.xticks([])"
   ]
  },
  {
   "cell_type": "code",
   "execution_count": null,
   "metadata": {},
   "outputs": [
    {
     "data": {
      "text/plain": [
       "0        5.349\n",
       "1        0.706\n",
       "2        3.854\n",
       "3        0.525\n",
       "4        0.260\n",
       "        ...   \n",
       "695      0.485\n",
       "696      0.501\n",
       "697      0.558\n",
       "698    203.402\n",
       "699      1.188\n",
       "Name: latency, Length: 700, dtype: float64"
      ]
     },
     "execution_count": 95,
     "metadata": {},
     "output_type": "execute_result"
    }
   ],
   "source": [
    "(df['latency']/1e3)[:700]"
   ]
  },
  {
   "cell_type": "markdown",
   "metadata": {},
   "source": [
    "---\n",
    "# 其他分析"
   ]
  },
  {
   "cell_type": "code",
   "execution_count": null,
   "metadata": {},
   "outputs": [],
   "source": [
    "trace_data = []\n",
    "for ln in log_names:\n",
    "    for trace in log_data[ln]:\n",
    "        trace_latency = trace[-1]['ingress_tstamp'] + trace[-1]['hop_latency'] - trace[0]['ingress_tstamp']\n",
    "        if trace_latency < 0:\n",
    "            print(trace)\n",
    "        trace_data.append({\n",
    "            'timestamp': trace[0]['ingress_tstamp'],\n",
    "            'path': frozenset([\"s\"+str(hop['switch_id']) for hop in trace]),\n",
    "            'len': len(trace),\n",
    "            'latency': trace_latency,\n",
    "        })\n",
    "trace_df = pd.DataFrame(trace_data).sort_values(['timestamp'], ignore_index=True)"
   ]
  },
  {
   "cell_type": "code",
   "execution_count": null,
   "metadata": {},
   "outputs": [
    {
     "data": {
      "text/html": [
       "<div>\n",
       "<style scoped>\n",
       "    .dataframe tbody tr th:only-of-type {\n",
       "        vertical-align: middle;\n",
       "    }\n",
       "\n",
       "    .dataframe tbody tr th {\n",
       "        vertical-align: top;\n",
       "    }\n",
       "\n",
       "    .dataframe thead th {\n",
       "        text-align: right;\n",
       "    }\n",
       "</style>\n",
       "<table border=\"1\" class=\"dataframe\">\n",
       "  <thead>\n",
       "    <tr style=\"text-align: right;\">\n",
       "      <th></th>\n",
       "      <th>timestamp</th>\n",
       "      <th>path</th>\n",
       "      <th>len</th>\n",
       "      <th>latency</th>\n",
       "    </tr>\n",
       "  </thead>\n",
       "  <tbody>\n",
       "    <tr>\n",
       "      <th>0</th>\n",
       "      <td>228557729083671</td>\n",
       "      <td>(s8, s10, s5)</td>\n",
       "      <td>3</td>\n",
       "      <td>5349</td>\n",
       "    </tr>\n",
       "    <tr>\n",
       "      <th>1</th>\n",
       "      <td>228557729183220</td>\n",
       "      <td>(s3, s7)</td>\n",
       "      <td>2</td>\n",
       "      <td>706</td>\n",
       "    </tr>\n",
       "    <tr>\n",
       "      <th>2</th>\n",
       "      <td>228557729220238</td>\n",
       "      <td>(s6, s10, s1)</td>\n",
       "      <td>3</td>\n",
       "      <td>3854</td>\n",
       "    </tr>\n",
       "    <tr>\n",
       "      <th>3</th>\n",
       "      <td>228557729227249</td>\n",
       "      <td>(s9, s1)</td>\n",
       "      <td>2</td>\n",
       "      <td>525</td>\n",
       "    </tr>\n",
       "    <tr>\n",
       "      <th>4</th>\n",
       "      <td>228557729239231</td>\n",
       "      <td>(s3, s5)</td>\n",
       "      <td>2</td>\n",
       "      <td>260</td>\n",
       "    </tr>\n",
       "  </tbody>\n",
       "</table>\n",
       "</div>"
      ],
      "text/plain": [
       "         timestamp           path  len  latency\n",
       "0  228557729083671  (s8, s10, s5)    3     5349\n",
       "1  228557729183220       (s3, s7)    2      706\n",
       "2  228557729220238  (s6, s10, s1)    3     3854\n",
       "3  228557729227249       (s9, s1)    2      525\n",
       "4  228557729239231       (s3, s5)    2      260"
      ]
     },
     "execution_count": 97,
     "metadata": {},
     "output_type": "execute_result"
    }
   ],
   "source": [
    "trace_df.head()"
   ]
  },
  {
   "cell_type": "code",
   "execution_count": null,
   "metadata": {},
   "outputs": [
    {
     "name": "stdout",
     "output_type": "stream",
     "text": [
      "12.039632038834952 2622.46963017043\n"
     ]
    },
    {
     "data": {
      "image/png": "[encoded data removed]",
      "text/plain": [
       "<Figure size 432x288 with 1 Axes>"
      ]
     },
     "metadata": {
      "needs_background": "light"
     },
     "output_type": "display_data"
    },
    {
     "name": "stdout",
     "output_type": "stream",
     "text": [
      "1.788996124031008 3.029489996109008\n"
     ]
    },
    {
     "data": {
      "image/png": "[encoded data removed]",
      "text/plain": [
       "<Figure size 432x288 with 1 Axes>"
      ]
     },
     "metadata": {
      "needs_background": "light"
     },
     "output_type": "display_data"
    }
   ],
   "source": [
    "for L in set(trace_df['len']):\n",
    "    latency = np.array(trace_df[trace_df['len']==L]['latency'].to_list())/1e3\n",
    "    print(np.mean(latency), np.var(latency))\n",
    "    plt.hist(latency, bins=50)\n",
    "    plt.show()\n",
    "    # break"
   ]
  },
  {
   "cell_type": "code",
   "execution_count": null,
   "metadata": {},
   "outputs": [],
   "source": []
  }
 ],
 "metadata": {
  "interpreter": {
   "hash": "31f2aee4e71d21fbe5cf8b01ff0e069b9275f58929596ceb00d14d90e3e16cd6"
  },
  "kernelspec": {
   "display_name": "Python 3.6.9 64-bit",
   "name": "python3"
  },
  "language_info": {
   "codemirror_mode": {
    "name": "ipython",
    "version": 3
   },
   "file_extension": ".py",
   "mimetype": "text/x-python",
   "name": "python",
   "nbconvert_exporter": "python",
   "pygments_lexer": "ipython3",
   "version": "3.6.9"
  },
  "orig_nbformat": 4
 },
 "nbformat": 4,
 "nbformat_minor": 2
}
